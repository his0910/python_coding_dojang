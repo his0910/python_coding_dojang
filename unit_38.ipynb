{
 "cells": [
  {
   "cell_type": "markdown",
   "metadata": {},
   "source": [
    "## UNIT 38 예외처리 사용하기"
   ]
  },
  {
   "cell_type": "markdown",
   "metadata": {},
   "source": [
    "### 38.1 try except 로 사용하기"
   ]
  },
  {
   "cell_type": "code",
   "execution_count": 1,
   "metadata": {},
   "outputs": [
    {
     "name": "stdout",
     "output_type": "stream",
     "text": [
      "나눌 숫자를 입력하세요: 0\n",
      "예외가 발생했습니다.\n"
     ]
    }
   ],
   "source": [
    "try:\n",
    "    x = int(input('나눌 숫자를 입력하세요: '))\n",
    "    y = 10 / x\n",
    "    print(y)\n",
    "except:    # 예외가 발생했을 때 실행됨\n",
    "    print('예외가 발생했습니다.')"
   ]
  },
  {
   "cell_type": "code",
   "execution_count": 2,
   "metadata": {},
   "outputs": [
    {
     "name": "stdout",
     "output_type": "stream",
     "text": [
      "나눌 숫자를 입력하세요: 2\n",
      "5.0\n"
     ]
    }
   ],
   "source": [
    "try:\n",
    "    x = int(input('나눌 숫자를 입력하세요: '))\n",
    "    y = 10 / x\n",
    "    print(y)\n",
    "except:    # 예외가 발생했을 때 실행됨\n",
    "    print('예외가 발생했습니다.')"
   ]
  },
  {
   "cell_type": "code",
   "execution_count": 3,
   "metadata": {},
   "outputs": [
    {
     "name": "stdout",
     "output_type": "stream",
     "text": [
      "인덱스와 나눌 숫자를 입력하세요: 2 0\n",
      "숫자를 0으로 나눌 수 없습니다.\n"
     ]
    }
   ],
   "source": [
    "# 1. 특정 예외만 처리하기\n",
    "\n",
    "y = [10, 20, 30]\n",
    " \n",
    "try:\n",
    "    index, x = map(int, input('인덱스와 나눌 숫자를 입력하세요: ').split())\n",
    "    print(y[index] / x)\n",
    "except ZeroDivisionError:    # 숫자를 0으로 나눠서 에러가 발생했을 때 실행됨\n",
    "    print('숫자를 0으로 나눌 수 없습니다.')\n",
    "except IndexError:           # 범위를 벗어난 인덱스에 접근하여 에러가 발생했을 때 실행됨\n",
    "    print('잘못된 인덱스입니다.')"
   ]
  },
  {
   "cell_type": "code",
   "execution_count": 4,
   "metadata": {},
   "outputs": [
    {
     "name": "stdout",
     "output_type": "stream",
     "text": [
      "인덱스와 나눌 숫자를 입력하세요: 3 5\n",
      "잘못된 인덱스입니다. list index out of range\n"
     ]
    }
   ],
   "source": [
    "# 2. 예외의 에러 메시지 받아오기\n",
    "\n",
    "y = [10, 20, 30]\n",
    " \n",
    "try:\n",
    "    index, x = map(int, input('인덱스와 나눌 숫자를 입력하세요: ').split())\n",
    "    print(y[index] / x)\n",
    "except ZeroDivisionError as e:                    # as 뒤에 변수를 지정하면 에러를 받아옴\n",
    "    print('숫자를 0으로 나눌 수 없습니다.', e)    # e에 저장된 에러 메시지 출력\n",
    "except IndexError as e:\n",
    "    print('잘못된 인덱스입니다.', e)"
   ]
  },
  {
   "cell_type": "markdown",
   "metadata": {},
   "source": [
    "### 38.2 else와 finally 사용하기"
   ]
  },
  {
   "cell_type": "code",
   "execution_count": 5,
   "metadata": {},
   "outputs": [
    {
     "name": "stdout",
     "output_type": "stream",
     "text": [
      "나눌 숫자를 입력하세요: 2\n",
      "5.0\n"
     ]
    }
   ],
   "source": [
    "try:\n",
    "    x = int(input('나눌 숫자를 입력하세요: '))\n",
    "    y = 10 / x\n",
    "except ZeroDivisionError:    # 숫자를 0으로 나눠서 에러가 발생했을 때 실행됨\n",
    "    print('숫자를 0으로 나눌 수 없습니다.')\n",
    "else:                        # try의 코드에서 예외가 발생하지 않았을 때 실행됨\n",
    "    print(y)"
   ]
  },
  {
   "cell_type": "code",
   "execution_count": 6,
   "metadata": {},
   "outputs": [
    {
     "name": "stdout",
     "output_type": "stream",
     "text": [
      "나눌 숫자를 입력하세요: 0\n",
      "숫자를 0으로 나눌 수 없습니다.\n"
     ]
    }
   ],
   "source": [
    "try:\n",
    "    x = int(input('나눌 숫자를 입력하세요: '))\n",
    "    y = 10 / x\n",
    "except ZeroDivisionError:    # 숫자를 0으로 나눠서 에러가 발생했을 때 실행됨\n",
    "    print('숫자를 0으로 나눌 수 없습니다.')\n",
    "else:                        # try의 코드에서 예외가 발생하지 않았을 때 실행됨\n",
    "    print(y)"
   ]
  },
  {
   "cell_type": "code",
   "execution_count": 7,
   "metadata": {},
   "outputs": [
    {
     "name": "stdout",
     "output_type": "stream",
     "text": [
      "나눌 숫자를 입력하세요: 2\n",
      "5.0\n",
      "코드 실행이 끝났습니다.\n"
     ]
    }
   ],
   "source": [
    "try:\n",
    "    x = int(input('나눌 숫자를 입력하세요: '))\n",
    "    y = 10 / x\n",
    "except ZeroDivisionError:    # 숫자를 0으로 나눠서 에러가 발생했을 때 실행됨\n",
    "    print('숫자를 0으로 나눌 수 없습니다.')\n",
    "else:                        # try의 코드에서 예외가 발생하지 않았을 때 실행됨\n",
    "    print(y)\n",
    "finally:                     # 예외 발생 여부와 상관없이 항상 실행됨\n",
    "    print('코드 실행이 끝났습니다.')"
   ]
  },
  {
   "cell_type": "markdown",
   "metadata": {},
   "source": [
    "### 38.3 예외 발생시키기"
   ]
  },
  {
   "cell_type": "code",
   "execution_count": 8,
   "metadata": {},
   "outputs": [
    {
     "name": "stdout",
     "output_type": "stream",
     "text": [
      "3의 배수를 입력하세요: 6\n",
      "6\n"
     ]
    }
   ],
   "source": [
    "try:\n",
    "    x = int(input('3의 배수를 입력하세요: '))\n",
    "    if x % 3 != 0:                                 # x가 3의 배수가 아니면\n",
    "        raise Exception('3의 배수가 아닙니다.')    # 예외를 발생시킴\n",
    "    print(x)\n",
    "except Exception as e:                             # 예외가 발생했을 때 실행됨\n",
    "    print('예외가 발생했습니다.', e)"
   ]
  },
  {
   "cell_type": "code",
   "execution_count": 9,
   "metadata": {},
   "outputs": [
    {
     "name": "stdout",
     "output_type": "stream",
     "text": [
      "3의 배수를 입력하세요: 9\n",
      "9\n"
     ]
    }
   ],
   "source": [
    "# 1. raise의 처리 과정\n",
    "\n",
    "def three_multiple():\n",
    "    x = int(input('3의 배수를 입력하세요: '))\n",
    "    if x % 3 != 0:                                 # x가 3의 배수가 아니면\n",
    "        raise Exception('3의 배수가 아닙니다.')    # 예외를 발생시킴\n",
    "    print(x)                                       # 현재 함수 안에는 except가 없으므로\n",
    "                                                   # 예외를 상위 코드 블록으로 넘김\n",
    " \n",
    "try:\n",
    "    three_multiple()\n",
    "except Exception as e:                             # 하위 코드 블록에서 예외가 발생해도 실행됨\n",
    "    print('예외가 발생했습니다.', e)"
   ]
  },
  {
   "cell_type": "code",
   "execution_count": 10,
   "metadata": {},
   "outputs": [
    {
     "name": "stdout",
     "output_type": "stream",
     "text": [
      "3의 배수를 입력하세요: 5\n",
      "three_multiple 함수에서 예외가 발생했습니다. 3의 배수가 아닙니다.\n",
      "스크립트 파일에서 예외가 발생했습니다. 3의 배수가 아닙니다.\n"
     ]
    }
   ],
   "source": [
    "# 2. 현재 예외를 다시 발생시키기\n",
    "\n",
    "def three_multiple():\n",
    "    try:\n",
    "        x = int(input('3의 배수를 입력하세요: '))\n",
    "        if x % 3 != 0:                                 # x가 3의 배수가 아니면\n",
    "            raise Exception('3의 배수가 아닙니다.')    # 예외를 발생시킴\n",
    "        print(x)\n",
    "    except Exception as e:                             # 함수 안에서 예외를 처리함\n",
    "        print('three_multiple 함수에서 예외가 발생했습니다.', e)\n",
    "        raise    # raise로 현재 예외를 다시 발생시켜서 상위 코드 블록으로 넘김\n",
    " \n",
    "try:\n",
    "    three_multiple()\n",
    "except Exception as e:                                 # 하위 코드 블록에서 예외가 발생해도 실행됨\n",
    "    print('스크립트 파일에서 예외가 발생했습니다.', e)"
   ]
  },
  {
   "cell_type": "markdown",
   "metadata": {},
   "source": [
    "### 38.4 예외 만들기"
   ]
  },
  {
   "cell_type": "code",
   "execution_count": 11,
   "metadata": {},
   "outputs": [
    {
     "name": "stdout",
     "output_type": "stream",
     "text": [
      "3의 배수를 입력하세요: 12\n",
      "12\n"
     ]
    }
   ],
   "source": [
    "class NotThreeMultipleError(Exception):    # Exception을 상속받아서 새로운 예외를 만듦\n",
    "    def __init__(self):\n",
    "        super().__init__('3의 배수가 아닙니다.')\n",
    " \n",
    "def three_multiple():\n",
    "    try:\n",
    "        x = int(input('3의 배수를 입력하세요: '))\n",
    "        if x % 3 != 0:                     # x가 3의 배수가 아니면\n",
    "            raise NotThreeMultipleError    # NotThreeMultipleError 예외를 발생시킴\n",
    "        print(x)\n",
    "    except Exception as e:\n",
    "        print('예외가 발생했습니다.', e)\n",
    " \n",
    "three_multiple()"
   ]
  },
  {
   "cell_type": "markdown",
   "metadata": {},
   "source": [
    "### 38.6 연습문제 : 파일 예외 처리하기\n",
    "\n",
    "다음 소스 코드를 완성하여 maria.txt 파일이 있으면 파일의 내용을 읽어서 출력하고, 파일이 없으면 '파일이 없습니다.'를 출력하도록 만드세요. 파일이 없을 때 발생하는 예외는 FileNotFoundError입니다."
   ]
  },
  {
   "cell_type": "code",
   "execution_count": 12,
   "metadata": {},
   "outputs": [
    {
     "name": "stdout",
     "output_type": "stream",
     "text": [
      "파일이 없습니다.\n"
     ]
    }
   ],
   "source": [
    "try:\n",
    "    file = open('maria.txt', 'r')\n",
    "except FileNotFoundError:                          \n",
    "    print('파일이 없습니다.')\n",
    "else:     \n",
    "    s = file.read()\n",
    "    file.close()"
   ]
  },
  {
   "cell_type": "markdown",
   "metadata": {},
   "source": [
    "### 38.7 심사문제 : 회문이 아니면 예외 발생시키기\n",
    "\n",
    "표준 입력으로 문자열이 입력됩니다. 다음 소스 코드를 완성하여 입력된 문자열이 회문이면 문자열을 그대로 출력하고, 회문이 아니면 '회문이 아닙니다.'를 출력하도록 만드세요. palindrome 함수와 NotPalindromeError 예외를 작성해야 합니다."
   ]
  },
  {
   "cell_type": "code",
   "execution_count": 14,
   "metadata": {},
   "outputs": [
    {
     "name": "stdout",
     "output_type": "stream",
     "text": [
      "level\n",
      "level\n"
     ]
    }
   ],
   "source": [
    "class NotPalindromeError(Exception):\n",
    "    def __init__(self):\n",
    "        super().__init__('회문이 아닙니다.')\n",
    "        \n",
    "def palindrome(word):\n",
    "    if word != word[::-1]:\n",
    "        raise NotPalindromeError\n",
    "    print(word)\n",
    "    \n",
    "try:\n",
    "    word = input()\n",
    "    palindrome(word)\n",
    "except NotPalindromeError as e:\n",
    "    print(e)"
   ]
  },
  {
   "cell_type": "code",
   "execution_count": null,
   "metadata": {},
   "outputs": [],
   "source": []
  }
 ],
 "metadata": {
  "kernelspec": {
   "display_name": "Python 3",
   "language": "python",
   "name": "python3"
  },
  "language_info": {
   "codemirror_mode": {
    "name": "ipython",
    "version": 3
   },
   "file_extension": ".py",
   "mimetype": "text/x-python",
   "name": "python",
   "nbconvert_exporter": "python",
   "pygments_lexer": "ipython3",
   "version": "3.8.5"
  }
 },
 "nbformat": 4,
 "nbformat_minor": 4
}
