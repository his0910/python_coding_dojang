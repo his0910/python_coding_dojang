{
 "cells": [
  {
   "cell_type": "markdown",
   "metadata": {},
   "source": [
    "## UNIT 21 터틀 그래픽스로 그림 그리기"
   ]
  },
  {
   "cell_type": "markdown",
   "metadata": {},
   "source": [
    "### 21.1 사각형 그리기"
   ]
  },
  {
   "cell_type": "code",
   "execution_count": 1,
   "metadata": {},
   "outputs": [],
   "source": [
    "import turtle as t\n",
    "t.shape('turtle')"
   ]
  },
  {
   "cell_type": "code",
   "execution_count": 2,
   "metadata": {},
   "outputs": [],
   "source": [
    "t.forward(100)"
   ]
  },
  {
   "cell_type": "code",
   "execution_count": 3,
   "metadata": {},
   "outputs": [],
   "source": [
    "t.right(90)"
   ]
  },
  {
   "cell_type": "code",
   "execution_count": null,
   "metadata": {},
   "outputs": [],
   "source": [
    "t.forward(100)"
   ]
  },
  {
   "cell_type": "code",
   "execution_count": null,
   "metadata": {},
   "outputs": [],
   "source": [
    "t.right(90)\n",
    "t.forward(100)\n",
    "t.right(90)\n",
    "t.forward(100)"
   ]
  },
  {
   "cell_type": "markdown",
   "metadata": {},
   "source": [
    "### 21.2 다각형 그리기"
   ]
  },
  {
   "cell_type": "code",
   "execution_count": 2,
   "metadata": {},
   "outputs": [],
   "source": [
    "import turtle as t\n",
    "\n",
    "t.shape('turtle')\n",
    "for i in range(4): # 사각형이므로 4번 반복\n",
    "    t.forward(100)\n",
    "    t.right(90)"
   ]
  },
  {
   "cell_type": "code",
   "execution_count": 3,
   "metadata": {},
   "outputs": [],
   "source": [
    "# 오각형 그리기\n",
    "import turtle as t\n",
    "\n",
    "t.shape('turtle')\n",
    "for i in range(5):\n",
    "    t.forward(100)\n",
    "    t.right(360/5)"
   ]
  },
  {
   "cell_type": "code",
   "execution_count": 4,
   "metadata": {},
   "outputs": [
    {
     "name": "stdout",
     "output_type": "stream",
     "text": [
      "6\n"
     ]
    }
   ],
   "source": [
    "# 다각형 그리기\n",
    "import turtle as t\n",
    "\n",
    "n = int(input())\n",
    "t.shape('turtle')\n",
    "\n",
    "for i in range(n):\n",
    "    t.forward(100)\n",
    "    t.right(360 / n)"
   ]
  },
  {
   "cell_type": "code",
   "execution_count": 5,
   "metadata": {},
   "outputs": [],
   "source": [
    "# 다각형에 색칠하기\n",
    "import turtle as t\n",
    "\n",
    "n = 6\n",
    "t.shape('turtle')\n",
    "t.color('red')\n",
    "t.begin_fill()\n",
    "\n",
    "for i in range(n):\n",
    "    t.forward(100)\n",
    "    t.right(360 / n)\n",
    "    \n",
    "t.end_fill()"
   ]
  },
  {
   "cell_type": "markdown",
   "metadata": {},
   "source": [
    "### 21.3 복잡한 도형 그리기"
   ]
  },
  {
   "cell_type": "code",
   "execution_count": 7,
   "metadata": {},
   "outputs": [],
   "source": [
    "import turtle as t\n",
    "\n",
    "t.shape('turtle')\n",
    "t.circle(120) # 반지름이 120인 원 그리기"
   ]
  },
  {
   "cell_type": "code",
   "execution_count": 8,
   "metadata": {},
   "outputs": [],
   "source": [
    "# 원을 반복해서 그리기\n",
    "import turtle as t\n",
    "\n",
    "n = 60\n",
    "t.shape('turtle')\n",
    "t.speed('fastest')\n",
    "\n",
    "for i in range(n):\n",
    "    t.circle(120)\n",
    "    t.right(360 / n)"
   ]
  },
  {
   "cell_type": "code",
   "execution_count": 10,
   "metadata": {},
   "outputs": [],
   "source": [
    "# 선으로 복잡한 무늬 그리기\n",
    "import turtle as t\n",
    "\n",
    "t.shape('turtle') # arrow, turtle, circle, square, triangle, classic 등 다양하게 지정 가능\n",
    "t.speed('fastest')\n",
    "\n",
    "for i in range(300):\n",
    "    t.circle(i) # i만큼 앞으로 이동. 반복할 때마다 선이 길어짐\n",
    "    t.right(91)"
   ]
  },
  {
   "cell_type": "markdown",
   "metadata": {},
   "source": [
    "### 21.5 연습문제 : 오각별 그리기\n",
    "\n",
    "다음 소스 코드를 완성하여 오각별이 그려지게 만드세요.\n",
    "- 각 변의 길이는 100\n",
    "- 별의 꼭짓점은 72도를 두 번 회전해서 144도 회전\n",
    "- 별의 다음 꼭짓점을 그릴 때는 72도 회전"
   ]
  },
  {
   "cell_type": "code",
   "execution_count": 11,
   "metadata": {},
   "outputs": [],
   "source": [
    "import turtle as t\n",
    "\n",
    "n = 5\n",
    "t.shape('turtle')\n",
    "\n",
    "for i in range(n):\n",
    "    t.forward(100)\n",
    "    t.right((360/n) * 2)\n",
    "    t.forward(100)\n",
    "    t.left(360/n)"
   ]
  },
  {
   "cell_type": "markdown",
   "metadata": {},
   "source": [
    "### 21.6 심사문제 : 별 그리기\n",
    "\n",
    "표준 입력으로 꼭짓점 개수(정수)와 선의 길이(정수)가 입력됩니다(꼭짓점 개수의 입력 범위는 5 ~ 10, 선의 길이 입력 범위는 50 ~ 150입니다). 다음 소스 코드를 완성하여 꼭짓점 개수와 선의 길이에 맞는 별이 그려지게 만드세요. 별을 그릴 때는 현재 위치부터 오른쪽으로 이동해서 시작해야 하며 시계 방향으로 그려야 합니다."
   ]
  },
  {
   "cell_type": "code",
   "execution_count": 2,
   "metadata": {},
   "outputs": [
    {
     "name": "stdout",
     "output_type": "stream",
     "text": [
      "5 150\n"
     ]
    }
   ],
   "source": [
    "import turtle as t\n",
    "\n",
    "n, line = map(int, input().split())\n",
    "t.shape('turtle')\n",
    "t.speed('fastest')\n",
    "\n",
    "for i in range(n):\n",
    "    t.forward(line)\n",
    "    t.right((360/n) * 2)\n",
    "    t.forward(line)\n",
    "    t.left(360/n)"
   ]
  },
  {
   "cell_type": "code",
   "execution_count": null,
   "metadata": {},
   "outputs": [],
   "source": []
  }
 ],
 "metadata": {
  "kernelspec": {
   "display_name": "Python 3",
   "language": "python",
   "name": "python3"
  },
  "language_info": {
   "codemirror_mode": {
    "name": "ipython",
    "version": 3
   },
   "file_extension": ".py",
   "mimetype": "text/x-python",
   "name": "python",
   "nbconvert_exporter": "python",
   "pygments_lexer": "ipython3",
   "version": "3.8.5"
  }
 },
 "nbformat": 4,
 "nbformat_minor": 4
}
