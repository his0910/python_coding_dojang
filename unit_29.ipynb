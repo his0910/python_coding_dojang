{
 "cells": [
  {
   "cell_type": "markdown",
   "id": "71665e6a",
   "metadata": {},
   "source": [
    "## UNIT 29 함수 사용하기"
   ]
  },
  {
   "cell_type": "code",
   "execution_count": 1,
   "id": "a43da3de",
   "metadata": {},
   "outputs": [],
   "source": [
    "# 함수를 사용하면 이런 점이 좋습니다\n",
    "# 1. 코드의 용도를 구분할 수 있음\n",
    "# 2. 코드를 재사용할 수 있음\n",
    "# 3. 실수를 줄일 수 있음"
   ]
  },
  {
   "cell_type": "markdown",
   "id": "4c881318",
   "metadata": {},
   "source": [
    "### 29.1 Hello, world! 출력 함수 만들기"
   ]
  },
  {
   "cell_type": "code",
   "execution_count": 4,
   "id": "ffd39fd5",
   "metadata": {},
   "outputs": [],
   "source": [
    "# 1. 함수 만들기\n",
    "def hello():\n",
    "    print(\"Hello, world!\")"
   ]
  },
  {
   "cell_type": "code",
   "execution_count": 5,
   "id": "3a80428d",
   "metadata": {},
   "outputs": [
    {
     "name": "stdout",
     "output_type": "stream",
     "text": [
      "Hello, world!\n"
     ]
    }
   ],
   "source": [
    "# 2. 함수 호출하기\n",
    "hello()"
   ]
  },
  {
   "cell_type": "code",
   "execution_count": 7,
   "id": "2f68d47d",
   "metadata": {},
   "outputs": [],
   "source": [
    "# 주의 : 함수를 만들기 전에 함수를 먼저 호출하면 안됩니다."
   ]
  },
  {
   "cell_type": "markdown",
   "id": "38baf939",
   "metadata": {},
   "source": [
    "### 29.2 덧셈 함수 만들기"
   ]
  },
  {
   "cell_type": "code",
   "execution_count": 8,
   "id": "4c52193c",
   "metadata": {},
   "outputs": [],
   "source": [
    "def add(a, b):\n",
    "    print(a + b)"
   ]
  },
  {
   "cell_type": "code",
   "execution_count": 9,
   "id": "8408ff91",
   "metadata": {},
   "outputs": [
    {
     "name": "stdout",
     "output_type": "stream",
     "text": [
      "30\n"
     ]
    }
   ],
   "source": [
    "add(10, 20)"
   ]
  },
  {
   "cell_type": "markdown",
   "id": "24e2f1f7",
   "metadata": {},
   "source": [
    "### 29.3 함수의 결과를 반환하기"
   ]
  },
  {
   "cell_type": "code",
   "execution_count": 10,
   "id": "9b773829",
   "metadata": {},
   "outputs": [],
   "source": [
    "def add(a, b):\n",
    "    return a + b"
   ]
  },
  {
   "cell_type": "code",
   "execution_count": 11,
   "id": "7c5251c7",
   "metadata": {},
   "outputs": [
    {
     "data": {
      "text/plain": [
       "30"
      ]
     },
     "execution_count": 11,
     "metadata": {},
     "output_type": "execute_result"
    }
   ],
   "source": [
    "x = add(10, 20)\n",
    "x"
   ]
  },
  {
   "cell_type": "markdown",
   "id": "1583dfcd",
   "metadata": {},
   "source": [
    "### 29.4 함수에서 값을 여러 개 반환하기"
   ]
  },
  {
   "cell_type": "code",
   "execution_count": 12,
   "id": "bd57a118",
   "metadata": {},
   "outputs": [],
   "source": [
    "def add_sub(a, b):\n",
    "    return a+b, a-b"
   ]
  },
  {
   "cell_type": "code",
   "execution_count": 14,
   "id": "12df6cd2",
   "metadata": {},
   "outputs": [],
   "source": [
    "x, y = add_sub(10, 20)"
   ]
  },
  {
   "cell_type": "code",
   "execution_count": 15,
   "id": "cda7ed3c",
   "metadata": {},
   "outputs": [
    {
     "data": {
      "text/plain": [
       "30"
      ]
     },
     "execution_count": 15,
     "metadata": {},
     "output_type": "execute_result"
    }
   ],
   "source": [
    "x"
   ]
  },
  {
   "cell_type": "code",
   "execution_count": 16,
   "id": "f0d285bc",
   "metadata": {},
   "outputs": [
    {
     "data": {
      "text/plain": [
       "-10"
      ]
     },
     "execution_count": 16,
     "metadata": {},
     "output_type": "execute_result"
    }
   ],
   "source": [
    "y"
   ]
  },
  {
   "cell_type": "markdown",
   "id": "775c0193",
   "metadata": {},
   "source": [
    "### 29.5 함수의 호출 과정 알아보기"
   ]
  },
  {
   "cell_type": "code",
   "execution_count": 17,
   "id": "474d5e07",
   "metadata": {},
   "outputs": [],
   "source": [
    "def mul(a, b):\n",
    "    c = a * b\n",
    "    return c\n",
    "\n",
    "def add(a, b):\n",
    "    c = a + b\n",
    "    print(c)\n",
    "    \n",
    "    d = mul(a, b)\n",
    "    print(d)"
   ]
  },
  {
   "cell_type": "code",
   "execution_count": 18,
   "id": "730f1b06",
   "metadata": {},
   "outputs": [
    {
     "name": "stdout",
     "output_type": "stream",
     "text": [
      "30\n",
      "200\n"
     ]
    }
   ],
   "source": [
    "x = 10\n",
    "y = 20\n",
    "add(x, y)"
   ]
  },
  {
   "cell_type": "markdown",
   "id": "4cf84021",
   "metadata": {},
   "source": [
    "### 29.6 연습문제 : 몫과 나머지를 구하는 함수 만들기\n",
    "\n",
    "다음 소스 코드를 완성하여 x를 y로 나누었을 때의 몫과 나머지가 출력되게 만드세요."
   ]
  },
  {
   "cell_type": "code",
   "execution_count": 19,
   "id": "f57bbacf",
   "metadata": {},
   "outputs": [
    {
     "name": "stdout",
     "output_type": "stream",
     "text": [
      "몫: 3, 나머지: 1\n"
     ]
    }
   ],
   "source": [
    "x = 10\n",
    "y = 3\n",
    "\n",
    "def get_quotient_remainder(a, b):\n",
    "    return a // b, a % b\n",
    "\n",
    "quotient, remainder = get_quotient_remainder(x, y)\n",
    "print('몫: {0}, 나머지: {1}'.format(quotient, remainder))"
   ]
  },
  {
   "cell_type": "markdown",
   "id": "049f4004",
   "metadata": {},
   "source": [
    "### 29.7 심사문제 : 사칙 연산 함수 만들기\n",
    "\n",
    "표준 입력으로 숫자 두 개가 입력됩니다. 다음 소스 코드를 완성하여 두 숫자의 덧셈, 뺄셈, 곱셈, 나눗셈의 결과가 출력되게 만드세요. 이때 나눗셈의 결과는 실수라야 합니다."
   ]
  },
  {
   "cell_type": "code",
   "execution_count": 20,
   "id": "9662466b",
   "metadata": {},
   "outputs": [
    {
     "name": "stdout",
     "output_type": "stream",
     "text": [
      "10 20\n",
      "덧셈: 30, 뺄셈: -10, 곱셈: 200, 나눗셈: 0.5\n"
     ]
    }
   ],
   "source": [
    "x, y = map(int, input().split())\n",
    "\n",
    "def calc(a, b):\n",
    "    return a+b, a-b, a*b, a/b\n",
    "\n",
    "a, s, m, d = calc(x, y)\n",
    "print('덧셈: {0}, 뺄셈: {1}, 곱셈: {2}, 나눗셈: {3}'.format(a, s, m, d))"
   ]
  },
  {
   "cell_type": "code",
   "execution_count": null,
   "id": "13b225bb",
   "metadata": {},
   "outputs": [],
   "source": []
  },
  {
   "cell_type": "code",
   "execution_count": null,
   "id": "61400fc1",
   "metadata": {},
   "outputs": [],
   "source": []
  }
 ],
 "metadata": {
  "kernelspec": {
   "display_name": "Python 3 (ipykernel)",
   "language": "python",
   "name": "python3"
  },
  "language_info": {
   "codemirror_mode": {
    "name": "ipython",
    "version": 3
   },
   "file_extension": ".py",
   "mimetype": "text/x-python",
   "name": "python",
   "nbconvert_exporter": "python",
   "pygments_lexer": "ipython3",
   "version": "3.9.7"
  }
 },
 "nbformat": 4,
 "nbformat_minor": 5
}
