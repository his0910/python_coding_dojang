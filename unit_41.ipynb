{
 "cells": [
  {
   "cell_type": "markdown",
   "metadata": {},
   "source": [
    "## UNIT 41 코루틴 사용하기"
   ]
  },
  {
   "cell_type": "markdown",
   "metadata": {},
   "source": [
    "### 41.1 코루틴에 값 보내기"
   ]
  },
  {
   "cell_type": "code",
   "execution_count": 1,
   "metadata": {},
   "outputs": [
    {
     "name": "stdout",
     "output_type": "stream",
     "text": [
      "3\n",
      "add 함수\n",
      "calc 함수\n"
     ]
    }
   ],
   "source": [
    "def add(a, b):\n",
    "    c = a + b    # add 함수가 끝나면 변수와 계산식은 사라짐\n",
    "    print(c)\n",
    "    print('add 함수')\n",
    " \n",
    "def calc():\n",
    "    add(1, 2)    # add 함수가 끝나면 다시 calc 함수로 돌아옴\n",
    "    print('calc 함수')\n",
    " \n",
    "calc()"
   ]
  },
  {
   "cell_type": "code",
   "execution_count": 2,
   "metadata": {},
   "outputs": [
    {
     "name": "stdout",
     "output_type": "stream",
     "text": [
      "1\n",
      "2\n",
      "3\n"
     ]
    }
   ],
   "source": [
    "# 1. 코루틴에 값 보내기\n",
    "\n",
    "def number_coroutine():\n",
    "    while True:        # 코루틴을 계속 유지하기 위해 무한 루프 사용\n",
    "        x = (yield)    # 코루틴 바깥에서 값을 받아옴, yield를 괄호로 묶어야 함\n",
    "        print(x)\n",
    " \n",
    "co = number_coroutine()\n",
    "next(co)      # 코루틴 안의 yield까지 코드 실행(최초 실행)\n",
    " \n",
    "co.send(1)    # 코루틴에 숫자 1을 보냄\n",
    "co.send(2)    # 코루틴에 숫자 2을 보냄\n",
    "co.send(3)    # 코루틴에 숫자 3을 보냄"
   ]
  },
  {
   "cell_type": "markdown",
   "metadata": {},
   "source": [
    "### 41.2 코루틴 바깥으로 값 전달하기"
   ]
  },
  {
   "cell_type": "code",
   "execution_count": 3,
   "metadata": {},
   "outputs": [
    {
     "name": "stdout",
     "output_type": "stream",
     "text": [
      "0\n",
      "1\n",
      "3\n",
      "6\n"
     ]
    }
   ],
   "source": [
    "def sum_coroutine():\n",
    "    total = 0\n",
    "    while True:\n",
    "        x = (yield total)    # 코루틴 바깥에서 값을 받아오면서 바깥으로 값을 전달\n",
    "        total += x\n",
    " \n",
    "co = sum_coroutine()\n",
    "print(next(co))      # 0: 코루틴 안의 yield까지 코드를 실행하고 코루틴에서 나온 값 출력\n",
    " \n",
    "print(co.send(1))    # 1: 코루틴에 숫자 1을 보내고 코루틴에서 나온 값 출력\n",
    "print(co.send(2))    # 3: 코루틴에 숫자 2를 보내고 코루틴에서 나온 값 출력\n",
    "print(co.send(3))    # 6: 코루틴에 숫자 3을 보내고 코루틴에서 나온 값 출력"
   ]
  },
  {
   "cell_type": "markdown",
   "metadata": {},
   "source": [
    "### 41.3 코루틴을 종료하고 예외 처리하기"
   ]
  },
  {
   "cell_type": "code",
   "execution_count": 4,
   "metadata": {},
   "outputs": [
    {
     "name": "stdout",
     "output_type": "stream",
     "text": [
      "0 1 2 3 4 5 6 7 8 9 10 11 12 13 14 15 16 17 18 19 "
     ]
    }
   ],
   "source": [
    "def number_coroutine():\n",
    "    while True:\n",
    "        x = (yield)\n",
    "        print(x, end=' ')\n",
    " \n",
    "co = number_coroutine()\n",
    "next(co)\n",
    " \n",
    "for i in range(20):\n",
    "    co.send(i)\n",
    " \n",
    "co.close()    # 코루틴 종료"
   ]
  },
  {
   "cell_type": "code",
   "execution_count": 5,
   "metadata": {},
   "outputs": [
    {
     "name": "stdout",
     "output_type": "stream",
     "text": [
      "0 1 2 3 4 5 6 7 8 9 10 11 12 13 14 15 16 17 18 19 \n",
      "코루틴 종료\n"
     ]
    }
   ],
   "source": [
    "def number_coroutine():\n",
    "    try:\n",
    "        while True:\n",
    "            x = (yield)\n",
    "            print(x, end=' ')\n",
    "    except GeneratorExit:    # 코루틴이 종료 될 때 GeneratorExit 예외 발생\n",
    "        print()\n",
    "        print('코루틴 종료')\n",
    " \n",
    "co = number_coroutine()\n",
    "next(co)\n",
    " \n",
    "for i in range(20):\n",
    "    co.send(i)\n",
    " \n",
    "co.close()"
   ]
  },
  {
   "cell_type": "code",
   "execution_count": 6,
   "metadata": {},
   "outputs": [
    {
     "name": "stdout",
     "output_type": "stream",
     "text": [
      "예외로 코루틴 끝내기\n",
      "190\n"
     ]
    }
   ],
   "source": [
    "def sum_coroutine():\n",
    "    try:\n",
    "        total = 0\n",
    "        while True:\n",
    "            x = (yield)\n",
    "            total += x\n",
    "    except RuntimeError as e:\n",
    "        print(e)\n",
    "        yield total    # 코루틴 바깥으로 값 전달\n",
    " \n",
    "co = sum_coroutine()\n",
    "next(co)\n",
    " \n",
    "for i in range(20):\n",
    "    co.send(i)\n",
    " \n",
    "print(co.throw(RuntimeError, '예외로 코루틴 끝내기')) # 190\n",
    "                                                      # 코루틴의 except에서 yield로 전달받은 값"
   ]
  },
  {
   "cell_type": "markdown",
   "metadata": {},
   "source": [
    "### 41.4 하위 코루틴의 반환값 가져오기"
   ]
  },
  {
   "cell_type": "code",
   "execution_count": 7,
   "metadata": {},
   "outputs": [
    {
     "name": "stdout",
     "output_type": "stream",
     "text": [
      "55\n",
      "5050\n"
     ]
    }
   ],
   "source": [
    "def accumulate():\n",
    "    total = 0\n",
    "    while True:\n",
    "        x = (yield)         # 코루틴 바깥에서 값을 받아옴\n",
    "        if x is None:       # 받아온 값이 None이면\n",
    "            return total    # 합계 total을 반환\n",
    "        total += x\n",
    " \n",
    "def sum_coroutine():\n",
    "    while True:\n",
    "        total = yield from accumulate()    # accumulate의 반환값을 가져옴\n",
    "        print(total)\n",
    " \n",
    "co = sum_coroutine()\n",
    "next(co)\n",
    " \n",
    "for i in range(1, 11):    # 1부터 10까지 반복\n",
    "    co.send(i)            # 코루틴 accumulate에 숫자를 보냄\n",
    "co.send(None)             # 코루틴 accumulate에 None을 보내서 숫자 누적을 끝냄\n",
    " \n",
    "for i in range(1, 101):   # 1부터 100까지 반복\n",
    "    co.send(i)            # 코루틴 accumulate에 숫자를 보냄\n",
    "co.send(None)             # 코루틴 accumulate에 None을 보내서 숫자 누적을 끝냄"
   ]
  },
  {
   "cell_type": "code",
   "execution_count": 8,
   "metadata": {},
   "outputs": [
    {
     "ename": "RuntimeError",
     "evalue": "generator raised StopIteration",
     "output_type": "error",
     "traceback": [
      "\u001b[1;31m---------------------------------------------------------------------------\u001b[0m",
      "\u001b[1;31mStopIteration\u001b[0m                             Traceback (most recent call last)",
      "\u001b[1;32m<ipython-input-8-77c783140c2a>\u001b[0m in \u001b[0;36maccumulate\u001b[1;34m()\u001b[0m\n\u001b[0;32m      5\u001b[0m         \u001b[1;32mif\u001b[0m \u001b[0mx\u001b[0m \u001b[1;32mis\u001b[0m \u001b[1;32mNone\u001b[0m\u001b[1;33m:\u001b[0m                     \u001b[1;31m# 받아온 값이 None이면\u001b[0m\u001b[1;33m\u001b[0m\u001b[1;33m\u001b[0m\u001b[0m\n\u001b[1;32m----> 6\u001b[1;33m             \u001b[1;32mraise\u001b[0m \u001b[0mStopIteration\u001b[0m\u001b[1;33m(\u001b[0m\u001b[0mtotal\u001b[0m\u001b[1;33m)\u001b[0m    \u001b[1;31m# StopIteration에 반환할 값을 지정(파이썬 3.6 이하)\u001b[0m\u001b[1;33m\u001b[0m\u001b[1;33m\u001b[0m\u001b[0m\n\u001b[0m\u001b[0;32m      7\u001b[0m         \u001b[0mtotal\u001b[0m \u001b[1;33m+=\u001b[0m \u001b[0mx\u001b[0m\u001b[1;33m\u001b[0m\u001b[1;33m\u001b[0m\u001b[0m\n",
      "\u001b[1;31mStopIteration\u001b[0m: 55",
      "\nThe above exception was the direct cause of the following exception:\n",
      "\u001b[1;31mRuntimeError\u001b[0m                              Traceback (most recent call last)",
      "\u001b[1;32m<ipython-input-8-77c783140c2a>\u001b[0m in \u001b[0;36m<module>\u001b[1;34m\u001b[0m\n\u001b[0;32m     17\u001b[0m \u001b[1;32mfor\u001b[0m \u001b[0mi\u001b[0m \u001b[1;32min\u001b[0m \u001b[0mrange\u001b[0m\u001b[1;33m(\u001b[0m\u001b[1;36m1\u001b[0m\u001b[1;33m,\u001b[0m \u001b[1;36m11\u001b[0m\u001b[1;33m)\u001b[0m\u001b[1;33m:\u001b[0m    \u001b[1;31m# 1부터 10까지 반복\u001b[0m\u001b[1;33m\u001b[0m\u001b[1;33m\u001b[0m\u001b[0m\n\u001b[0;32m     18\u001b[0m     \u001b[0mco\u001b[0m\u001b[1;33m.\u001b[0m\u001b[0msend\u001b[0m\u001b[1;33m(\u001b[0m\u001b[0mi\u001b[0m\u001b[1;33m)\u001b[0m            \u001b[1;31m# 코루틴 accumulate에 숫자를 보냄\u001b[0m\u001b[1;33m\u001b[0m\u001b[1;33m\u001b[0m\u001b[0m\n\u001b[1;32m---> 19\u001b[1;33m \u001b[0mco\u001b[0m\u001b[1;33m.\u001b[0m\u001b[0msend\u001b[0m\u001b[1;33m(\u001b[0m\u001b[1;32mNone\u001b[0m\u001b[1;33m)\u001b[0m             \u001b[1;31m# 코루틴 accumulate에 None을 보내서 숫자 누적을 끝냄\u001b[0m\u001b[1;33m\u001b[0m\u001b[1;33m\u001b[0m\u001b[0m\n\u001b[0m\u001b[0;32m     20\u001b[0m \u001b[1;33m\u001b[0m\u001b[0m\n\u001b[0;32m     21\u001b[0m \u001b[1;32mfor\u001b[0m \u001b[0mi\u001b[0m \u001b[1;32min\u001b[0m \u001b[0mrange\u001b[0m\u001b[1;33m(\u001b[0m\u001b[1;36m1\u001b[0m\u001b[1;33m,\u001b[0m \u001b[1;36m101\u001b[0m\u001b[1;33m)\u001b[0m\u001b[1;33m:\u001b[0m   \u001b[1;31m# 1부터 100까지 반복\u001b[0m\u001b[1;33m\u001b[0m\u001b[1;33m\u001b[0m\u001b[0m\n",
      "\u001b[1;32m<ipython-input-8-77c783140c2a>\u001b[0m in \u001b[0;36msum_coroutine\u001b[1;34m()\u001b[0m\n\u001b[0;32m      9\u001b[0m \u001b[1;32mdef\u001b[0m \u001b[0msum_coroutine\u001b[0m\u001b[1;33m(\u001b[0m\u001b[1;33m)\u001b[0m\u001b[1;33m:\u001b[0m\u001b[1;33m\u001b[0m\u001b[1;33m\u001b[0m\u001b[0m\n\u001b[0;32m     10\u001b[0m     \u001b[1;32mwhile\u001b[0m \u001b[1;32mTrue\u001b[0m\u001b[1;33m:\u001b[0m\u001b[1;33m\u001b[0m\u001b[1;33m\u001b[0m\u001b[0m\n\u001b[1;32m---> 11\u001b[1;33m         \u001b[0mtotal\u001b[0m \u001b[1;33m=\u001b[0m \u001b[1;32myield\u001b[0m \u001b[1;32mfrom\u001b[0m \u001b[0maccumulate\u001b[0m\u001b[1;33m(\u001b[0m\u001b[1;33m)\u001b[0m    \u001b[1;31m# accumulate의 반환값을 가져옴\u001b[0m\u001b[1;33m\u001b[0m\u001b[1;33m\u001b[0m\u001b[0m\n\u001b[0m\u001b[0;32m     12\u001b[0m         \u001b[0mprint\u001b[0m\u001b[1;33m(\u001b[0m\u001b[0mtotal\u001b[0m\u001b[1;33m)\u001b[0m\u001b[1;33m\u001b[0m\u001b[1;33m\u001b[0m\u001b[0m\n\u001b[0;32m     13\u001b[0m \u001b[1;33m\u001b[0m\u001b[0m\n",
      "\u001b[1;31mRuntimeError\u001b[0m: generator raised StopIteration"
     ]
    }
   ],
   "source": [
    "def accumulate():\n",
    "    total = 0\n",
    "    while True:\n",
    "        x = (yield)                       # 코루틴 바깥에서 값을 받아옴\n",
    "        if x is None:                     # 받아온 값이 None이면\n",
    "            raise StopIteration(total)    # StopIteration에 반환할 값을 지정(파이썬 3.6 이하)\n",
    "        total += x\n",
    " \n",
    "def sum_coroutine():\n",
    "    while True:\n",
    "        total = yield from accumulate()    # accumulate의 반환값을 가져옴\n",
    "        print(total)\n",
    " \n",
    "co = sum_coroutine()\n",
    "next(co)\n",
    " \n",
    "for i in range(1, 11):    # 1부터 10까지 반복\n",
    "    co.send(i)            # 코루틴 accumulate에 숫자를 보냄\n",
    "co.send(None)             # 코루틴 accumulate에 None을 보내서 숫자 누적을 끝냄\n",
    " \n",
    "for i in range(1, 101):   # 1부터 100까지 반복\n",
    "    co.send(i)            # 코루틴 accumulate에 숫자를 보냄\n",
    "co.send(None)             # 코루틴 accumulate에 None을 보내서 숫자 누적을 끝냄"
   ]
  },
  {
   "cell_type": "code",
   "execution_count": 9,
   "metadata": {},
   "outputs": [
    {
     "name": "stdout",
     "output_type": "stream",
     "text": [
      "1\n",
      "2\n",
      "print_coroutine: 3\n"
     ]
    }
   ],
   "source": [
    "def number_coroutine():\n",
    "    x = None\n",
    "    while True:\n",
    "        x = (yield x)    # 코루틴 바깥에서 값을 받아오면서 바깥으로 값을 전달\n",
    "        if x == 3:\n",
    "            return x\n",
    " \n",
    "def print_coroutine():\n",
    "    while True:\n",
    "        x = yield from number_coroutine()   # 하위 코루틴의 yield에 지정된 값을 다시 바깥으로 전달\n",
    "        print('print_coroutine:', x)\n",
    " \n",
    "co = print_coroutine()\n",
    "next(co)\n",
    " \n",
    "x = co.send(1)    # number_coroutine으로 1을 보냄\n",
    "print(x)          # 1: number_coroutine의 yield에서 바깥으로 전달한 값\n",
    "x = co.send(2)    # number_coroutine으로 2를 보냄\n",
    "print(x)          # 2: number_coroutine의 yield에서 바깥으로 전달한 값\n",
    "co.send(3)        # 3을 보내서 반환값을 출력하도록 만듦"
   ]
  },
  {
   "cell_type": "markdown",
   "metadata": {},
   "source": [
    "### 41.6 연습문제 : 문자열 검색 코루틴 만들기\n",
    "\n",
    "다음 소스 코드를 완성하여 문자열에서 특정 단어가 있으면 True, 없으면 False가 출력되게 만드세요. find 함수는 코루틴으로 작성해야 합니다."
   ]
  },
  {
   "cell_type": "code",
   "execution_count": 10,
   "metadata": {},
   "outputs": [
    {
     "name": "stdout",
     "output_type": "stream",
     "text": [
      "True\n",
      "False\n",
      "True\n"
     ]
    }
   ],
   "source": [
    "def find(word):\n",
    "    result = False\n",
    "    while True:\n",
    "        line = (yield result)\n",
    "        result = word in line\n",
    "        \n",
    "f = find('Python')\n",
    "next(f)\n",
    " \n",
    "print(f.send('Hello, Python!'))\n",
    "print(f.send('Hello, world!'))\n",
    "print(f.send('Python Script'))\n",
    " \n",
    "f.close()"
   ]
  },
  {
   "cell_type": "markdown",
   "metadata": {},
   "source": [
    "### 41.7 심사문제 : 사칙연산 코루틴 만들기\n",
    "\n",
    "표준 입력으로 사칙연산 계산식이 여러 개 입력됩니다. 다음 소스 코드에서 각 계산식의 결과를 구하는 코루틴을 만드세요. 계산식은 문자열 형태이며 값과 연산자는 공백으로 구분됩니다. 그리고 값은 정수로 변환하여 사용하고, 나눗셈은 / 연산자를 사용하세요."
   ]
  },
  {
   "cell_type": "code",
   "execution_count": 11,
   "metadata": {},
   "outputs": [
    {
     "name": "stdout",
     "output_type": "stream",
     "text": [
      "1 + 2, 4 - 9\n",
      "3\n",
      "-5\n"
     ]
    }
   ],
   "source": [
    "def calc():\n",
    "    result = 0\n",
    "    while True:\n",
    "        expression = (yield result)\n",
    "        a, operator, b = expression.split()\n",
    "        if operator == '+':\n",
    "            result = int(a) + int(b)\n",
    "        elif operator == '-':\n",
    "            result = int(a) - int(b)\n",
    "        elif operator == '*':\n",
    "            result = int(a) * int(b)\n",
    "        elif operator == '/':\n",
    "            result = int(a) / int(b)\n",
    "            \n",
    "expressions = input().split(', ')\n",
    " \n",
    "c = calc()\n",
    "next(c)\n",
    " \n",
    "for e in expressions:\n",
    "    print(c.send(e))\n",
    " \n",
    "c.close()"
   ]
  },
  {
   "cell_type": "code",
   "execution_count": null,
   "metadata": {},
   "outputs": [],
   "source": []
  }
 ],
 "metadata": {
  "kernelspec": {
   "display_name": "Python 3",
   "language": "python",
   "name": "python3"
  },
  "language_info": {
   "codemirror_mode": {
    "name": "ipython",
    "version": 3
   },
   "file_extension": ".py",
   "mimetype": "text/x-python",
   "name": "python",
   "nbconvert_exporter": "python",
   "pygments_lexer": "ipython3",
   "version": "3.8.5"
  }
 },
 "nbformat": 4,
 "nbformat_minor": 4
}
