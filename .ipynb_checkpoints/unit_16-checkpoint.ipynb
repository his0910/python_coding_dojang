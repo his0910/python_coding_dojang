{
 "cells": [
  {
   "cell_type": "markdown",
   "metadata": {},
   "source": [
    "## UNIT 16 for 반복문으로 Hello, world! 100번 출력하기"
   ]
  },
  {
   "cell_type": "markdown",
   "metadata": {},
   "source": [
    "### 16.1 for ... range 사용하기"
   ]
  },
  {
   "cell_type": "code",
   "execution_count": 2,
   "metadata": {},
   "outputs": [
    {
     "name": "stdout",
     "output_type": "stream",
     "text": [
      "Hello, world!\n",
      "Hello, world!\n",
      "Hello, world!\n",
      "Hello, world!\n",
      "Hello, world!\n",
      "Hello, world!\n",
      "Hello, world!\n",
      "Hello, world!\n",
      "Hello, world!\n",
      "Hello, world!\n",
      "Hello, world!\n",
      "Hello, world!\n",
      "Hello, world!\n",
      "Hello, world!\n",
      "Hello, world!\n",
      "Hello, world!\n",
      "Hello, world!\n",
      "Hello, world!\n",
      "Hello, world!\n",
      "Hello, world!\n",
      "Hello, world!\n",
      "Hello, world!\n",
      "Hello, world!\n",
      "Hello, world!\n",
      "Hello, world!\n",
      "Hello, world!\n",
      "Hello, world!\n",
      "Hello, world!\n",
      "Hello, world!\n",
      "Hello, world!\n",
      "Hello, world!\n",
      "Hello, world!\n",
      "Hello, world!\n",
      "Hello, world!\n",
      "Hello, world!\n",
      "Hello, world!\n",
      "Hello, world!\n",
      "Hello, world!\n",
      "Hello, world!\n",
      "Hello, world!\n",
      "Hello, world!\n",
      "Hello, world!\n",
      "Hello, world!\n",
      "Hello, world!\n",
      "Hello, world!\n",
      "Hello, world!\n",
      "Hello, world!\n",
      "Hello, world!\n",
      "Hello, world!\n",
      "Hello, world!\n",
      "Hello, world!\n",
      "Hello, world!\n",
      "Hello, world!\n",
      "Hello, world!\n",
      "Hello, world!\n",
      "Hello, world!\n",
      "Hello, world!\n",
      "Hello, world!\n",
      "Hello, world!\n",
      "Hello, world!\n",
      "Hello, world!\n",
      "Hello, world!\n",
      "Hello, world!\n",
      "Hello, world!\n",
      "Hello, world!\n",
      "Hello, world!\n",
      "Hello, world!\n",
      "Hello, world!\n",
      "Hello, world!\n",
      "Hello, world!\n",
      "Hello, world!\n",
      "Hello, world!\n",
      "Hello, world!\n",
      "Hello, world!\n",
      "Hello, world!\n",
      "Hello, world!\n",
      "Hello, world!\n",
      "Hello, world!\n",
      "Hello, world!\n",
      "Hello, world!\n",
      "Hello, world!\n",
      "Hello, world!\n",
      "Hello, world!\n",
      "Hello, world!\n",
      "Hello, world!\n",
      "Hello, world!\n",
      "Hello, world!\n",
      "Hello, world!\n",
      "Hello, world!\n",
      "Hello, world!\n",
      "Hello, world!\n",
      "Hello, world!\n",
      "Hello, world!\n",
      "Hello, world!\n",
      "Hello, world!\n",
      "Hello, world!\n",
      "Hello, world!\n",
      "Hello, world!\n",
      "Hello, world!\n",
      "Hello, world!\n"
     ]
    }
   ],
   "source": [
    "for i in range(100):\n",
    "    print('Hello, world!')\n",
    "\n",
    "# for 반복문은 반복 횟수가 정해져 있을 때 주로 사용한다"
   ]
  },
  {
   "cell_type": "code",
   "execution_count": 3,
   "metadata": {},
   "outputs": [
    {
     "name": "stdout",
     "output_type": "stream",
     "text": [
      "Hello, world! 0\n",
      "Hello, world! 1\n",
      "Hello, world! 2\n",
      "Hello, world! 3\n",
      "Hello, world! 4\n",
      "Hello, world! 5\n",
      "Hello, world! 6\n",
      "Hello, world! 7\n",
      "Hello, world! 8\n",
      "Hello, world! 9\n",
      "Hello, world! 10\n",
      "Hello, world! 11\n",
      "Hello, world! 12\n",
      "Hello, world! 13\n",
      "Hello, world! 14\n",
      "Hello, world! 15\n",
      "Hello, world! 16\n",
      "Hello, world! 17\n",
      "Hello, world! 18\n",
      "Hello, world! 19\n",
      "Hello, world! 20\n",
      "Hello, world! 21\n",
      "Hello, world! 22\n",
      "Hello, world! 23\n",
      "Hello, world! 24\n",
      "Hello, world! 25\n",
      "Hello, world! 26\n",
      "Hello, world! 27\n",
      "Hello, world! 28\n",
      "Hello, world! 29\n",
      "Hello, world! 30\n",
      "Hello, world! 31\n",
      "Hello, world! 32\n",
      "Hello, world! 33\n",
      "Hello, world! 34\n",
      "Hello, world! 35\n",
      "Hello, world! 36\n",
      "Hello, world! 37\n",
      "Hello, world! 38\n",
      "Hello, world! 39\n",
      "Hello, world! 40\n",
      "Hello, world! 41\n",
      "Hello, world! 42\n",
      "Hello, world! 43\n",
      "Hello, world! 44\n",
      "Hello, world! 45\n",
      "Hello, world! 46\n",
      "Hello, world! 47\n",
      "Hello, world! 48\n",
      "Hello, world! 49\n",
      "Hello, world! 50\n",
      "Hello, world! 51\n",
      "Hello, world! 52\n",
      "Hello, world! 53\n",
      "Hello, world! 54\n",
      "Hello, world! 55\n",
      "Hello, world! 56\n",
      "Hello, world! 57\n",
      "Hello, world! 58\n",
      "Hello, world! 59\n",
      "Hello, world! 60\n",
      "Hello, world! 61\n",
      "Hello, world! 62\n",
      "Hello, world! 63\n",
      "Hello, world! 64\n",
      "Hello, world! 65\n",
      "Hello, world! 66\n",
      "Hello, world! 67\n",
      "Hello, world! 68\n",
      "Hello, world! 69\n",
      "Hello, world! 70\n",
      "Hello, world! 71\n",
      "Hello, world! 72\n",
      "Hello, world! 73\n",
      "Hello, world! 74\n",
      "Hello, world! 75\n",
      "Hello, world! 76\n",
      "Hello, world! 77\n",
      "Hello, world! 78\n",
      "Hello, world! 79\n",
      "Hello, world! 80\n",
      "Hello, world! 81\n",
      "Hello, world! 82\n",
      "Hello, world! 83\n",
      "Hello, world! 84\n",
      "Hello, world! 85\n",
      "Hello, world! 86\n",
      "Hello, world! 87\n",
      "Hello, world! 88\n",
      "Hello, world! 89\n",
      "Hello, world! 90\n",
      "Hello, world! 91\n",
      "Hello, world! 92\n",
      "Hello, world! 93\n",
      "Hello, world! 94\n",
      "Hello, world! 95\n",
      "Hello, world! 96\n",
      "Hello, world! 97\n",
      "Hello, world! 98\n",
      "Hello, world! 99\n"
     ]
    }
   ],
   "source": [
    "# 반복문에서 변수의 변화 알아보기\n",
    "for i in range(100):\n",
    "    print('Hello, world!', i)"
   ]
  },
  {
   "cell_type": "markdown",
   "metadata": {},
   "source": [
    "### 16.2 for... range 응용하기"
   ]
  },
  {
   "cell_type": "code",
   "execution_count": 4,
   "metadata": {},
   "outputs": [
    {
     "name": "stdout",
     "output_type": "stream",
     "text": [
      "Hello, world! 5\n",
      "Hello, world! 6\n",
      "Hello, world! 7\n",
      "Hello, world! 8\n",
      "Hello, world! 9\n",
      "Hello, world! 10\n",
      "Hello, world! 11\n"
     ]
    }
   ],
   "source": [
    "for i in range(5, 12): # 5부터 11까지 반복\n",
    "    print('Hello, world!', i)"
   ]
  },
  {
   "cell_type": "code",
   "execution_count": 5,
   "metadata": {},
   "outputs": [
    {
     "name": "stdout",
     "output_type": "stream",
     "text": [
      "Hello, world! 0\n",
      "Hello, world! 2\n",
      "Hello, world! 4\n",
      "Hello, world! 6\n",
      "Hello, world! 8\n"
     ]
    }
   ],
   "source": [
    "for i in range(0, 10, 2): # 0부터 8까지 2씩 증가\n",
    "    print('Hello, world!', i)"
   ]
  },
  {
   "cell_type": "markdown",
   "metadata": {},
   "source": [
    "### 16.3 입력한 횟수대로 반복하기"
   ]
  },
  {
   "cell_type": "code",
   "execution_count": 6,
   "metadata": {},
   "outputs": [
    {
     "name": "stdout",
     "output_type": "stream",
     "text": [
      "반복할 횟수를 입력하세요: 12\n",
      "Hello, world! 0\n",
      "Hello, world! 1\n",
      "Hello, world! 2\n",
      "Hello, world! 3\n",
      "Hello, world! 4\n",
      "Hello, world! 5\n",
      "Hello, world! 6\n",
      "Hello, world! 7\n",
      "Hello, world! 8\n",
      "Hello, world! 9\n",
      "Hello, world! 10\n",
      "Hello, world! 11\n"
     ]
    }
   ],
   "source": [
    "count = int(input('반복할 횟수를 입력하세요: '))\n",
    "\n",
    "for i in range(count):\n",
    "    print('Hello, world!', i)"
   ]
  },
  {
   "cell_type": "markdown",
   "metadata": {},
   "source": [
    "### 16.4 시퀀스 객체로 반복하기"
   ]
  },
  {
   "cell_type": "code",
   "execution_count": 8,
   "metadata": {},
   "outputs": [
    {
     "name": "stdout",
     "output_type": "stream",
     "text": [
      "10\n",
      "20\n",
      "30\n",
      "40\n",
      "50\n"
     ]
    }
   ],
   "source": [
    "a = [10, 20, 30, 40, 50]\n",
    "for i in a:\n",
    "    print(i)"
   ]
  },
  {
   "cell_type": "code",
   "execution_count": 9,
   "metadata": {},
   "outputs": [
    {
     "name": "stdout",
     "output_type": "stream",
     "text": [
      "apple\n",
      "orange\n",
      "grape\n"
     ]
    }
   ],
   "source": [
    "fruits = ('apple', 'orange', 'grape')\n",
    "for fruits in fruits:\n",
    "    print(fruits)"
   ]
  },
  {
   "cell_type": "code",
   "execution_count": 10,
   "metadata": {},
   "outputs": [
    {
     "name": "stdout",
     "output_type": "stream",
     "text": [
      "P y t h o n "
     ]
    }
   ],
   "source": [
    "for letter in 'Python':\n",
    "    print(letter, end=' ')"
   ]
  },
  {
   "cell_type": "code",
   "execution_count": 11,
   "metadata": {},
   "outputs": [
    {
     "name": "stdout",
     "output_type": "stream",
     "text": [
      "n o h t y P "
     ]
    }
   ],
   "source": [
    "for letter in reversed('Python'):\n",
    "    print(letter, end=' ')"
   ]
  },
  {
   "cell_type": "markdown",
   "metadata": {},
   "source": [
    "### 16.5 연습문제 : 리스트의 요소에 10을 곱해서 출력하기\n",
    "\n",
    "다음 소스 코드를 완성하여 리스트 x에 들어있는 각 숫자(요소)에 10을 곱한 값이 출력되게 만드세요. 모든 숫자는 공백으로 구분하여 한 줄로 출력되어야 합니다."
   ]
  },
  {
   "cell_type": "code",
   "execution_count": 12,
   "metadata": {},
   "outputs": [
    {
     "name": "stdout",
     "output_type": "stream",
     "text": [
      "490 -170 250 1020 80 620 210 "
     ]
    }
   ],
   "source": [
    "x = [49, -17, 25, 102, 8, 62, 21]\n",
    "\n",
    "for i in x:\n",
    "    print(i*10, end=' ')"
   ]
  },
  {
   "cell_type": "markdown",
   "metadata": {},
   "source": [
    "### 16.6 심사문제 : 구구단 출력하기\n",
    "\n",
    "표준 입력으로 정수가 출력됩니다. 입력된 정수의 구구단을 출력하는 프로그램을 만드세요(input에서 안내 문자열은 출력하지 않아야 합니다). 출력 형식은 숫자 * 숫자 = 숫자 처럼 만들고 숫자와 *, = 사이는 공백을 한 칸 띄웁니다."
   ]
  },
  {
   "cell_type": "code",
   "execution_count": 13,
   "metadata": {},
   "outputs": [
    {
     "name": "stdout",
     "output_type": "stream",
     "text": [
      "4\n",
      "4 * 1 = 4\n",
      "4 * 2 = 8\n",
      "4 * 3 = 12\n",
      "4 * 4 = 16\n",
      "4 * 5 = 20\n",
      "4 * 6 = 24\n",
      "4 * 7 = 28\n",
      "4 * 8 = 32\n",
      "4 * 9 = 36\n"
     ]
    }
   ],
   "source": [
    "n = int(input())\n",
    "\n",
    "for i in range(1, 10):\n",
    "    print(n, '*', i, '=', n*i)"
   ]
  },
  {
   "cell_type": "code",
   "execution_count": null,
   "metadata": {},
   "outputs": [],
   "source": []
  }
 ],
 "metadata": {
  "kernelspec": {
   "display_name": "Python 3",
   "language": "python",
   "name": "python3"
  },
  "language_info": {
   "codemirror_mode": {
    "name": "ipython",
    "version": 3
   },
   "file_extension": ".py",
   "mimetype": "text/x-python",
   "name": "python",
   "nbconvert_exporter": "python",
   "pygments_lexer": "ipython3",
   "version": "3.8.5"
  }
 },
 "nbformat": 4,
 "nbformat_minor": 4
}
