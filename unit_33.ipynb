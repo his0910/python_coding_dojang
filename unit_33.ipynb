{
 "cells": [
  {
   "cell_type": "markdown",
   "metadata": {},
   "source": [
    "## UNIT 33 클로저 사용하기"
   ]
  },
  {
   "cell_type": "markdown",
   "metadata": {},
   "source": [
    "### 33.1 변수의 사용 범위 알아보기"
   ]
  },
  {
   "cell_type": "code",
   "execution_count": 6,
   "metadata": {},
   "outputs": [
    {
     "name": "stdout",
     "output_type": "stream",
     "text": [
      "10\n",
      "10\n"
     ]
    }
   ],
   "source": [
    "x = 10 # 전역 변수\n",
    "def foo():\n",
    "    print(x) # 전역 변수 출력\n",
    "\n",
    "foo()\n",
    "print(x)"
   ]
  },
  {
   "cell_type": "code",
   "execution_count": 8,
   "metadata": {},
   "outputs": [
    {
     "name": "stdout",
     "output_type": "stream",
     "text": [
      "10\n",
      "10\n"
     ]
    }
   ],
   "source": [
    "def foo():\n",
    "    x = 10 # foo의 지역 변수\n",
    "    print(x) # foo의 지역 변수 출력\n",
    "    \n",
    "foo()\n",
    "print(x)"
   ]
  },
  {
   "cell_type": "code",
   "execution_count": 9,
   "metadata": {},
   "outputs": [
    {
     "name": "stdout",
     "output_type": "stream",
     "text": [
      "20\n",
      "10\n"
     ]
    }
   ],
   "source": [
    "x = 10 # 전역 변수\n",
    "def foo():\n",
    "    x = 20 # x는 foo의 지역 변수\n",
    "    print(x) # foo의 지역 변수 출력\n",
    "    \n",
    "foo()\n",
    "print(x) # 전역 변수 출력"
   ]
  },
  {
   "cell_type": "code",
   "execution_count": 10,
   "metadata": {},
   "outputs": [
    {
     "name": "stdout",
     "output_type": "stream",
     "text": [
      "20\n",
      "20\n"
     ]
    }
   ],
   "source": [
    "# 함수 안에서 전역 변수의 값을 변경하려면 global 키워드를 사용\n",
    "\n",
    "x = 10 # 전역 변수\n",
    "def foo():\n",
    "    global x # 전역 변수 x를 사용하겠다고 설정\n",
    "    x = 20 # x는 전역 변수\n",
    "    print(x) # 전역 변수 출력\n",
    "    \n",
    "foo()\n",
    "print(x) # 전역 변수 출력"
   ]
  },
  {
   "cell_type": "code",
   "execution_count": 11,
   "metadata": {},
   "outputs": [
    {
     "name": "stdout",
     "output_type": "stream",
     "text": [
      "20\n",
      "20\n"
     ]
    }
   ],
   "source": [
    "def foo():\n",
    "    global x # x를 전역 변수로 만듦\n",
    "    x = 20\n",
    "    print(x)\n",
    "    \n",
    "foo()\n",
    "print(x)"
   ]
  },
  {
   "cell_type": "code",
   "execution_count": 12,
   "metadata": {},
   "outputs": [
    {
     "data": {
      "text/plain": [
       "{'__name__': '__main__',\n",
       " '__doc__': 'Automatically created module for IPython interactive environment',\n",
       " '__package__': None,\n",
       " '__loader__': None,\n",
       " '__spec__': None,\n",
       " '__builtin__': <module 'builtins' (built-in)>,\n",
       " '__builtins__': <module 'builtins' (built-in)>,\n",
       " '_ih': ['',\n",
       "  'X = 10 # 전역 변수\\ndef foo():\\n    print(x) # 전역 변수 출력\\n    \\nfoo()\\nprint(x)',\n",
       "  'X = 10 # 전역 변수',\n",
       "  'def foo():\\n    print(x) # 전역 변수 출력\\n    \\nfoo()\\nprint(x)',\n",
       "  'X = 10 # 전역 변수\\ndef foo():\\n    print(x) # 전역 변수 출력',\n",
       "  'foo()\\nprint(x)',\n",
       "  'x = 10 # 전역 변수\\ndef foo():\\n    print(x) # 전역 변수 출력\\n\\nfoo()\\nprint(x)',\n",
       "  'def foo():\\n    x = 10 # foo의 지역 변수\\n    print(x) # foo의 지역 변수 출력\\n    \\nfoo()\\nprint(x)\\n\\n# 변수 x를 함수 foo안에서 만들면?\\n# 오류 발생',\n",
       "  'def foo():\\n    x = 10 # foo의 지역 변수\\n    print(x) # foo의 지역 변수 출력\\n    \\nfoo()\\nprint(x)',\n",
       "  'x = 10 # 전역 변수\\ndef foo():\\n    x = 20 # x는 foo의 지역 변수\\n    print(x) # foo의 지역 변수 출력\\n    \\nfoo()\\nprint(x) # 전역 변수 출력',\n",
       "  '# 함수 안에서 전역 변수의 값을 변경하려면 global 키워드를 사용\\n\\nx = 10 # 전역 변수\\ndef foo():\\n    global x # 전역 변수 x를 사용하겠다고 설정\\n    x = 20 # x는 전역 변수\\n    print(x) # 전역 변수 출력\\n    \\nfoo()\\nprint(x) # 전역 변수 출력',\n",
       "  'def foo():\\n    global x # x를 전역 변수로 만듦\\n    x = 20\\n    print(x)\\n    \\nfoo()\\nprint(x)',\n",
       "  '# 네임스페이스\\n# 파이썬에서 변수는 네임스페이스(=이름공간)에 저장\\n\\nx = 10\\nlocals()'],\n",
       " '_oh': {},\n",
       " '_dh': ['C:\\\\Users\\\\forev\\\\Desktop\\\\python\\\\파이썬 코딩 도장'],\n",
       " 'In': ['',\n",
       "  'X = 10 # 전역 변수\\ndef foo():\\n    print(x) # 전역 변수 출력\\n    \\nfoo()\\nprint(x)',\n",
       "  'X = 10 # 전역 변수',\n",
       "  'def foo():\\n    print(x) # 전역 변수 출력\\n    \\nfoo()\\nprint(x)',\n",
       "  'X = 10 # 전역 변수\\ndef foo():\\n    print(x) # 전역 변수 출력',\n",
       "  'foo()\\nprint(x)',\n",
       "  'x = 10 # 전역 변수\\ndef foo():\\n    print(x) # 전역 변수 출력\\n\\nfoo()\\nprint(x)',\n",
       "  'def foo():\\n    x = 10 # foo의 지역 변수\\n    print(x) # foo의 지역 변수 출력\\n    \\nfoo()\\nprint(x)\\n\\n# 변수 x를 함수 foo안에서 만들면?\\n# 오류 발생',\n",
       "  'def foo():\\n    x = 10 # foo의 지역 변수\\n    print(x) # foo의 지역 변수 출력\\n    \\nfoo()\\nprint(x)',\n",
       "  'x = 10 # 전역 변수\\ndef foo():\\n    x = 20 # x는 foo의 지역 변수\\n    print(x) # foo의 지역 변수 출력\\n    \\nfoo()\\nprint(x) # 전역 변수 출력',\n",
       "  '# 함수 안에서 전역 변수의 값을 변경하려면 global 키워드를 사용\\n\\nx = 10 # 전역 변수\\ndef foo():\\n    global x # 전역 변수 x를 사용하겠다고 설정\\n    x = 20 # x는 전역 변수\\n    print(x) # 전역 변수 출력\\n    \\nfoo()\\nprint(x) # 전역 변수 출력',\n",
       "  'def foo():\\n    global x # x를 전역 변수로 만듦\\n    x = 20\\n    print(x)\\n    \\nfoo()\\nprint(x)',\n",
       "  '# 네임스페이스\\n# 파이썬에서 변수는 네임스페이스(=이름공간)에 저장\\n\\nx = 10\\nlocals()'],\n",
       " 'Out': {},\n",
       " 'get_ipython': <bound method InteractiveShell.get_ipython of <ipykernel.zmqshell.ZMQInteractiveShell object at 0x0000024AD7BC5A00>>,\n",
       " 'exit': <IPython.core.autocall.ZMQExitAutocall at 0x24ad7c3b4f0>,\n",
       " 'quit': <IPython.core.autocall.ZMQExitAutocall at 0x24ad7c3b4f0>,\n",
       " '_': '',\n",
       " '__': '',\n",
       " '___': '',\n",
       " '_i': 'def foo():\\n    global x # x를 전역 변수로 만듦\\n    x = 20\\n    print(x)\\n    \\nfoo()\\nprint(x)',\n",
       " '_ii': '# 함수 안에서 전역 변수의 값을 변경하려면 global 키워드를 사용\\n\\nx = 10 # 전역 변수\\ndef foo():\\n    global x # 전역 변수 x를 사용하겠다고 설정\\n    x = 20 # x는 전역 변수\\n    print(x) # 전역 변수 출력\\n    \\nfoo()\\nprint(x) # 전역 변수 출력',\n",
       " '_iii': 'x = 10 # 전역 변수\\ndef foo():\\n    x = 20 # x는 foo의 지역 변수\\n    print(x) # foo의 지역 변수 출력\\n    \\nfoo()\\nprint(x) # 전역 변수 출력',\n",
       " '_i1': 'X = 10 # 전역 변수\\ndef foo():\\n    print(x) # 전역 변수 출력\\n    \\nfoo()\\nprint(x)',\n",
       " 'X': 10,\n",
       " 'foo': <function __main__.foo()>,\n",
       " '_i2': 'X = 10 # 전역 변수',\n",
       " '_i3': 'def foo():\\n    print(x) # 전역 변수 출력\\n    \\nfoo()\\nprint(x)',\n",
       " '_i4': 'X = 10 # 전역 변수\\ndef foo():\\n    print(x) # 전역 변수 출력',\n",
       " '_i5': 'foo()\\nprint(x)',\n",
       " '_i6': 'x = 10 # 전역 변수\\ndef foo():\\n    print(x) # 전역 변수 출력\\n\\nfoo()\\nprint(x)',\n",
       " 'x': 10,\n",
       " '_i7': 'def foo():\\n    x = 10 # foo의 지역 변수\\n    print(x) # foo의 지역 변수 출력\\n    \\nfoo()\\nprint(x)\\n\\n# 변수 x를 함수 foo안에서 만들면?\\n# 오류 발생',\n",
       " '_i8': 'def foo():\\n    x = 10 # foo의 지역 변수\\n    print(x) # foo의 지역 변수 출력\\n    \\nfoo()\\nprint(x)',\n",
       " '_i9': 'x = 10 # 전역 변수\\ndef foo():\\n    x = 20 # x는 foo의 지역 변수\\n    print(x) # foo의 지역 변수 출력\\n    \\nfoo()\\nprint(x) # 전역 변수 출력',\n",
       " '_i10': '# 함수 안에서 전역 변수의 값을 변경하려면 global 키워드를 사용\\n\\nx = 10 # 전역 변수\\ndef foo():\\n    global x # 전역 변수 x를 사용하겠다고 설정\\n    x = 20 # x는 전역 변수\\n    print(x) # 전역 변수 출력\\n    \\nfoo()\\nprint(x) # 전역 변수 출력',\n",
       " '_i11': 'def foo():\\n    global x # x를 전역 변수로 만듦\\n    x = 20\\n    print(x)\\n    \\nfoo()\\nprint(x)',\n",
       " '_i12': '# 네임스페이스\\n# 파이썬에서 변수는 네임스페이스(=이름공간)에 저장\\n\\nx = 10\\nlocals()'}"
      ]
     },
     "execution_count": 12,
     "metadata": {},
     "output_type": "execute_result"
    }
   ],
   "source": [
    "# 네임스페이스\n",
    "# 파이썬에서 변수는 네임스페이스(=이름공간)에 저장\n",
    "\n",
    "x = 10\n",
    "locals()"
   ]
  },
  {
   "cell_type": "code",
   "execution_count": 13,
   "metadata": {},
   "outputs": [
    {
     "name": "stdout",
     "output_type": "stream",
     "text": [
      "{'x': 10}\n"
     ]
    }
   ],
   "source": [
    "def foo():\n",
    "    x = 10\n",
    "    print(locals())\n",
    "    \n",
    "foo()"
   ]
  },
  {
   "cell_type": "markdown",
   "metadata": {},
   "source": [
    "### 33.2 함수 안에서 함수 만들기"
   ]
  },
  {
   "cell_type": "code",
   "execution_count": 14,
   "metadata": {},
   "outputs": [
    {
     "name": "stdout",
     "output_type": "stream",
     "text": [
      "Hello, world!\n"
     ]
    }
   ],
   "source": [
    "def print_hello():\n",
    "    hello = 'Hello, world!'\n",
    "    \n",
    "    def print_message():\n",
    "        print(hello)\n",
    "        \n",
    "    print_message()\n",
    "    \n",
    "print_hello()"
   ]
  },
  {
   "cell_type": "code",
   "execution_count": 15,
   "metadata": {},
   "outputs": [],
   "source": [
    "# 1. 지역 변수의 범위\n",
    "\n",
    "def print_hello():\n",
    "    hello = 'Hello, world!'\n",
    "    def print_message():\n",
    "        print(hello) # 바깥쪽 함수의 지역 변수를 사용"
   ]
  },
  {
   "cell_type": "code",
   "execution_count": 16,
   "metadata": {},
   "outputs": [
    {
     "name": "stdout",
     "output_type": "stream",
     "text": [
      "10\n"
     ]
    }
   ],
   "source": [
    "def A():\n",
    "    x = 10 # A의 지역 변수 x\n",
    "    \n",
    "    def B():\n",
    "        x = 20 # x에 20 할당\n",
    "        \n",
    "    B()\n",
    "    print(x) # A의 지역 변수 출력\n",
    "    \n",
    "A()"
   ]
  },
  {
   "cell_type": "code",
   "execution_count": 17,
   "metadata": {},
   "outputs": [],
   "source": [
    "def A():\n",
    "    x = 10\n",
    "    def B():\n",
    "        x = 20"
   ]
  },
  {
   "cell_type": "code",
   "execution_count": 18,
   "metadata": {},
   "outputs": [
    {
     "name": "stdout",
     "output_type": "stream",
     "text": [
      "20\n"
     ]
    }
   ],
   "source": [
    "# 현재 함수 바깥쪽에 있는 지역 변수의 값을 변경하려면 nonlocal 키워드를 사용\n",
    "\n",
    "def A():\n",
    "    x = 10 # A의 지역 변수 x\n",
    "    \n",
    "    def B():\n",
    "        nonlocal x # 현재 함수의 바깥쪽에 있는 지역 변수 사용\n",
    "        x = 20\n",
    "        \n",
    "    B()\n",
    "    print(x) # A의 지역 변수 x 출력\n",
    "    \n",
    "A()"
   ]
  },
  {
   "cell_type": "code",
   "execution_count": 19,
   "metadata": {},
   "outputs": [
    {
     "name": "stdout",
     "output_type": "stream",
     "text": [
      "50\n",
      "400\n"
     ]
    }
   ],
   "source": [
    "# nonlocal이 변수를 찾는 순서\n",
    "\n",
    "def A():\n",
    "    x = 10\n",
    "    y = 100\n",
    "    def B():\n",
    "        x = 20\n",
    "        def C():\n",
    "            nonlocal x\n",
    "            nonlocal y\n",
    "            x = x + 30\n",
    "            y = y + 300\n",
    "            print(x)\n",
    "            print(y)\n",
    "        C()\n",
    "    B()\n",
    "A()"
   ]
  },
  {
   "cell_type": "code",
   "execution_count": 20,
   "metadata": {},
   "outputs": [
    {
     "name": "stdout",
     "output_type": "stream",
     "text": [
      "31\n"
     ]
    }
   ],
   "source": [
    "x = 1\n",
    "def A():\n",
    "    x = 10\n",
    "    def B():\n",
    "        x = 20\n",
    "        def C():\n",
    "            global x\n",
    "            x = x + 30\n",
    "            print(x)\n",
    "        C()\n",
    "    B()\n",
    " \n",
    "A()"
   ]
  },
  {
   "cell_type": "markdown",
   "metadata": {},
   "source": [
    "### 33.3 클로저 사용하기"
   ]
  },
  {
   "cell_type": "code",
   "execution_count": 21,
   "metadata": {},
   "outputs": [
    {
     "name": "stdout",
     "output_type": "stream",
     "text": [
      "8 11 14 17 20\n"
     ]
    }
   ],
   "source": [
    "def calc():\n",
    "    a = 3\n",
    "    b = 5\n",
    "    def mul_add(x):\n",
    "        return a * x + b    # 함수 바깥쪽에 있는 지역 변수 a, b를 사용하여 계산\n",
    "    return mul_add          # mul_add 함수를 반환\n",
    " \n",
    "c = calc()\n",
    "print(c(1), c(2), c(3), c(4), c(5))"
   ]
  },
  {
   "cell_type": "code",
   "execution_count": 22,
   "metadata": {},
   "outputs": [],
   "source": [
    "def calc():\n",
    "    a = 3\n",
    "    b = 5\n",
    "    def mul_add(x):\n",
    "        return a * x + b    # 함수 바깥쪽에 있는 지역 변수 a, b를 사용하여 계산"
   ]
  },
  {
   "cell_type": "code",
   "execution_count": 25,
   "metadata": {},
   "outputs": [
    {
     "name": "stdout",
     "output_type": "stream",
     "text": [
      "8 11 14 17 20\n"
     ]
    }
   ],
   "source": [
    "# 1. 람다로 클로저 만들기\n",
    "\n",
    "def calc():\n",
    "    a = 3\n",
    "    b = 5\n",
    "    return lambda x: a * x + b    # 람다 표현식을 반환\n",
    " \n",
    "c = calc()\n",
    "print(c(1), c(2), c(3), c(4), c(5))"
   ]
  },
  {
   "cell_type": "code",
   "execution_count": 26,
   "metadata": {},
   "outputs": [
    {
     "name": "stdout",
     "output_type": "stream",
     "text": [
      "8\n",
      "19\n",
      "33\n"
     ]
    }
   ],
   "source": [
    "# 2. 클로저의 지역 변수 변경하기\n",
    "\n",
    "def calc():\n",
    "    a = 3\n",
    "    b = 5\n",
    "    total = 0\n",
    "    def mul_add(x):\n",
    "        nonlocal total\n",
    "        total = total + a * x + b\n",
    "        print(total)\n",
    "    return mul_add\n",
    " \n",
    "c = calc()\n",
    "c(1)\n",
    "c(2)\n",
    "c(3)"
   ]
  },
  {
   "cell_type": "markdown",
   "metadata": {},
   "source": [
    "### 33.5 연습문제 : 호출 횟수를 세는 함수 만들기\n",
    "\n",
    "다음 소스 코드를 완성하여 함수 c를 호출할 때마다 호출 횟수가 출력되게 만드세요. 여기서는 함수를 클로저로 만들어야 합니다."
   ]
  },
  {
   "cell_type": "code",
   "execution_count": 27,
   "metadata": {},
   "outputs": [
    {
     "name": "stdout",
     "output_type": "stream",
     "text": [
      "1 2 3 4 5 6 7 8 9 10 "
     ]
    }
   ],
   "source": [
    "def counter():\n",
    "    i = 0\n",
    "    def count():\n",
    "        nonlocal i\n",
    "        i += 1\n",
    "        return i\n",
    "    return count\n",
    "c = counter()\n",
    "for i in range(10):\n",
    "    print(c(), end=' ')"
   ]
  },
  {
   "cell_type": "markdown",
   "metadata": {},
   "source": [
    "### 33.6 심사문제 : 카운트다운 함수 만들기\n",
    "\n",
    "표준 입력으로 정수가 입력됩니다. 다음 소스 코드를 완성하여 함수 c를 호출할 때마다 숫자가 1씩 줄어들게 만드세요. 여기서는 함수를 클로저로 만들어야 합니다. 정답에 코드를 작성할 때는 def countdown(n):에 맞춰서 들여쓰기를 해주세요."
   ]
  },
  {
   "cell_type": "code",
   "execution_count": 28,
   "metadata": {},
   "outputs": [
    {
     "name": "stdout",
     "output_type": "stream",
     "text": [
      "10\n",
      "10 9 8 7 6 5 4 3 2 1 "
     ]
    }
   ],
   "source": [
    "def countdown(n):\n",
    "    i = n+1\n",
    "    def count():\n",
    "        nonlocal i\n",
    "        i -= 1\n",
    "        return i\n",
    "    return count\n",
    "\n",
    "n = int(input())\n",
    " \n",
    "c = countdown(n)\n",
    "for i in range(n):\n",
    "    print(c(), end=' ')"
   ]
  },
  {
   "cell_type": "code",
   "execution_count": null,
   "metadata": {},
   "outputs": [],
   "source": []
  }
 ],
 "metadata": {
  "kernelspec": {
   "display_name": "Python 3",
   "language": "python",
   "name": "python3"
  },
  "language_info": {
   "codemirror_mode": {
    "name": "ipython",
    "version": 3
   },
   "file_extension": ".py",
   "mimetype": "text/x-python",
   "name": "python",
   "nbconvert_exporter": "python",
   "pygments_lexer": "ipython3",
   "version": "3.8.5"
  }
 },
 "nbformat": 4,
 "nbformat_minor": 4
}
