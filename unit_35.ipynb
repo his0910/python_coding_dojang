{
 "cells": [
  {
   "cell_type": "markdown",
   "metadata": {},
   "source": [
    "## UNIT 35 클래스 속성과 정적, 클래스 메서드 사용하기"
   ]
  },
  {
   "cell_type": "markdown",
   "metadata": {},
   "source": [
    "### 35.1 클래스 속성과 인스턴스 속성 알아보기"
   ]
  },
  {
   "cell_type": "code",
   "execution_count": 2,
   "metadata": {},
   "outputs": [
    {
     "name": "stdout",
     "output_type": "stream",
     "text": [
      "['책', '열쇠']\n",
      "['책', '열쇠']\n"
     ]
    }
   ],
   "source": [
    "# 1. 클래스 속성 사용하기\n",
    "class Person:\n",
    "    bag = []\n",
    "    \n",
    "    def put_bag(self, stuff):\n",
    "        self.bag.append(stuff)\n",
    "        \n",
    "james = Person()\n",
    "james.put_bag('책')\n",
    "\n",
    "maria = Person()\n",
    "maria.put_bag('열쇠')\n",
    "\n",
    "print(james.bag)\n",
    "print(maria.bag)"
   ]
  },
  {
   "cell_type": "code",
   "execution_count": 4,
   "metadata": {},
   "outputs": [
    {
     "name": "stdout",
     "output_type": "stream",
     "text": [
      "['책']\n",
      "['열쇠']\n"
     ]
    }
   ],
   "source": [
    "# 2. 인스턴스 속성 사용하기\n",
    "\n",
    "class Person:\n",
    "    def __init__(self):\n",
    "        self.bag = []\n",
    "        \n",
    "    def put_bag(self, stuff):\n",
    "        self.bag.append(stuff)\n",
    "        \n",
    "james = Person()\n",
    "james.put_bag('책')\n",
    "\n",
    "maria = Person()\n",
    "maria.put_bag('열쇠')\n",
    "\n",
    "print(james.bag)\n",
    "print(maria.bag)"
   ]
  },
  {
   "cell_type": "markdown",
   "metadata": {},
   "source": [
    "### 35.2 정적 메서드 사용하기"
   ]
  },
  {
   "cell_type": "code",
   "execution_count": 5,
   "metadata": {},
   "outputs": [
    {
     "name": "stdout",
     "output_type": "stream",
     "text": [
      "30\n",
      "200\n"
     ]
    }
   ],
   "source": [
    "class Calc:\n",
    "    @staticmethod\n",
    "    def add(a, b):\n",
    "        print(a + b)\n",
    "        \n",
    "    @staticmethod\n",
    "    def mul(a, b):\n",
    "        print(a * b)\n",
    "        \n",
    "Calc.add(10, 20) # 클래스에서 바로 메서드 호출\n",
    "Calc.mul(10, 20) # 클래스에서 바로 메서드 호출"
   ]
  },
  {
   "cell_type": "markdown",
   "metadata": {},
   "source": [
    "### 35.3 클래스 메서드 사용하기"
   ]
  },
  {
   "cell_type": "code",
   "execution_count": 6,
   "metadata": {},
   "outputs": [
    {
     "name": "stdout",
     "output_type": "stream",
     "text": [
      "2명 생성되었습니다.\n"
     ]
    }
   ],
   "source": [
    "class Person:\n",
    "    count = 0 # 클래스 속성\n",
    "    \n",
    "    def __init__(self):\n",
    "        Person.count += 1 # 인스턴스가 만들어질 때 # 클래스 속성 count에 1을 더함\n",
    "        \n",
    "    @classmethod\n",
    "    def print_count(cls):\n",
    "        print('{0}명 생성되었습니다.'.format(cls.count)) # cls로 클래스 속성에 접근\n",
    "        \n",
    "james = Person()\n",
    "maria = Person()\n",
    "\n",
    "Person.print_count() # 2명 생성되었습니다."
   ]
  },
  {
   "cell_type": "markdown",
   "metadata": {},
   "source": [
    "### 35.5 연습문제 : 날짜 클래스 만들기\n",
    "\n",
    "다음 소스 코드에서 Date 클래스를 완성하세요. is_date_valid는 문자열이 올바른 날짜인지 검사하는 메서드입니다. 날짜에서 월은 12월까지 일은 31일까지 있어야 합니다."
   ]
  },
  {
   "cell_type": "code",
   "execution_count": 9,
   "metadata": {},
   "outputs": [
    {
     "name": "stdout",
     "output_type": "stream",
     "text": [
      "올바른 날짜 형식입니다.\n"
     ]
    }
   ],
   "source": [
    "class Date:\n",
    "                                                                \n",
    "    @staticmethod\n",
    "    def is_date_valid(date_string):\n",
    "        year, month, day = map(int, date_string.split('-'))\n",
    "        return month <= 12 and day <= 31\n",
    "                                                                \n",
    "if Date.is_date_valid('2000-10-31'):\n",
    "    print('올바른 날짜 형식입니다.')\n",
    "else:\n",
    "    print('잘못된 날짜 형식입니다.')"
   ]
  },
  {
   "cell_type": "markdown",
   "metadata": {},
   "source": [
    "## 35.6 심사문제 : 시간 클래스 만들기\n",
    "\n",
    "표준 입력으로 시:분:초 형식의 시간이 입력됩니다. 다음 소스 코드에서 Time 클래스를 완성하여 시, 분, 초가 출력되게 만드세요. from_string은 문자열로 인스턴스를 만드는 메서드이며 is_time_valid는 문자열이 올바른 시간인지 검사하는 메서드입니다. 시간은 24시까지, 분은 59분까지, 초는 60초까지 있어야 합니다. 정답에 코드를 작성할 때는 class Time:에 맞춰서 들여쓰기를 해주세요."
   ]
  },
  {
   "cell_type": "code",
   "execution_count": 11,
   "metadata": {},
   "outputs": [
    {
     "name": "stdout",
     "output_type": "stream",
     "text": [
      "23:35:59\n",
      "23 35 59\n"
     ]
    }
   ],
   "source": [
    "class Time:\n",
    "    def __init__(self, hour, minute, second):\n",
    "        self.hour = hour\n",
    "        self.minute = minute\n",
    "        self.second = second\n",
    "        \n",
    "    @classmethod\n",
    "    def from_string(cls, time_string):\n",
    "        hour, minute, second = map(int, time_string.split(':'))\n",
    "        time = cls(hour, minute, second)\n",
    "        return time\n",
    "    \n",
    "    @staticmethod\n",
    "    def is_time_valid(time_string):\n",
    "        hour, minute, second = map(int, time_string.split(':'))\n",
    "        return hour<=24 and minute<=59 and second<=60\n",
    "        \n",
    "time_string = input()\n",
    " \n",
    "if Time.is_time_valid(time_string):\n",
    "    t = Time.from_string(time_string)\n",
    "    print(t.hour, t.minute, t.second)\n",
    "else:\n",
    "    print('잘못된 시간 형식입니다.')"
   ]
  },
  {
   "cell_type": "code",
   "execution_count": null,
   "metadata": {},
   "outputs": [],
   "source": []
  }
 ],
 "metadata": {
  "kernelspec": {
   "display_name": "Python 3",
   "language": "python",
   "name": "python3"
  },
  "language_info": {
   "codemirror_mode": {
    "name": "ipython",
    "version": 3
   },
   "file_extension": ".py",
   "mimetype": "text/x-python",
   "name": "python",
   "nbconvert_exporter": "python",
   "pygments_lexer": "ipython3",
   "version": "3.8.5"
  }
 },
 "nbformat": 4,
 "nbformat_minor": 4
}
