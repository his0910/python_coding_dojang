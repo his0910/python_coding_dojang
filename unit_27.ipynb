{
 "cells": [
  {
   "cell_type": "markdown",
   "id": "ef3066c0",
   "metadata": {},
   "source": [
    "## UNIT 27 파일 사용하기"
   ]
  },
  {
   "cell_type": "markdown",
   "id": "4a719b4e",
   "metadata": {},
   "source": [
    "### 27.1 파일에 문자열 읽기.쓰기"
   ]
  },
  {
   "cell_type": "code",
   "execution_count": 7,
   "id": "ab37fc46",
   "metadata": {},
   "outputs": [],
   "source": [
    "# 1. 파일 쓰기\n",
    "# 파일에 문자열을 쓸 때는 open함수로 파일을 열어서 파일 객체(file object)를 얻은 뒤에 write 메서드를 사용\n",
    "file = open('hello.txt', 'w') # hello.txt 파일을 쓰기 모드(w)로 열기, 파일 객체 반환\n",
    "file.write('Hello, world!') # 파일에 문자열 저장\n",
    "file.close() # 파일 객체 닫기\n",
    "\n",
    "# 이 코드를 실행하면 폴더에 hello.txt 파일이 생성됨"
   ]
  },
  {
   "cell_type": "code",
   "execution_count": 8,
   "id": "2cad162a",
   "metadata": {},
   "outputs": [
    {
     "name": "stdout",
     "output_type": "stream",
     "text": [
      "Hello, world!\n"
     ]
    }
   ],
   "source": [
    "# 2. 파일 읽기\n",
    "file = open('hello.txt', 'r') # hello.txt 파일을 읽기 모드(r)로 열기. 파일 객체 반환\n",
    "s = file.read() # 파일에서 문자열 읽기\n",
    "print(s)\n",
    "file.close() # 파일 객체 닫기"
   ]
  },
  {
   "cell_type": "code",
   "execution_count": 9,
   "id": "139cd24b",
   "metadata": {},
   "outputs": [
    {
     "name": "stdout",
     "output_type": "stream",
     "text": [
      "Hello, world!\n"
     ]
    }
   ],
   "source": [
    "# 3. 자동으로 파일 객체 닫기\n",
    "with open('hello.txt', 'r') as file: # hello.txt 팦일을 읽기 모드(r)로 열기\n",
    "    s = file.read() # 파일에서 문자열 읽기\n",
    "    print(s)"
   ]
  },
  {
   "cell_type": "markdown",
   "id": "5eea64b0",
   "metadata": {},
   "source": [
    "### 27.2 문자열 여러 줄을 파일에 쓰기, 읽기"
   ]
  },
  {
   "cell_type": "code",
   "execution_count": 10,
   "id": "ab3466a6",
   "metadata": {},
   "outputs": [],
   "source": [
    "# 1. 반복문으로 문자열 여러 줄을 파일에 쓰기\n",
    "with open('hello.txt', 'w') as file: # hello.txt 파일을 쓰기 모드(w)로 열기\n",
    "    for i in range(3):\n",
    "        file.write('Hello, world! {0}\\n'.format(i))"
   ]
  },
  {
   "cell_type": "code",
   "execution_count": 11,
   "id": "1c39ebc4",
   "metadata": {},
   "outputs": [],
   "source": [
    "# 2. 리스트에 들어있는 문자열을 파일에 쓰기\n",
    "lines = ['안녕하세요.\\n', '파이썬\\n', '코딩 도장입니다.\\n']\n",
    "\n",
    "with open('hello.txt', 'w') as file: # hello.txt 파일을 쓰기 모드(w)로 열기\n",
    "    file.writelines(lines)"
   ]
  },
  {
   "cell_type": "code",
   "execution_count": 12,
   "id": "27f0d460",
   "metadata": {},
   "outputs": [
    {
     "name": "stdout",
     "output_type": "stream",
     "text": [
      "['안녕하세요.\\n', '파이썬\\n', '코딩 도장입니다.\\n']\n"
     ]
    }
   ],
   "source": [
    "# 3. 파일의 내용을 한 줄씩 리스트로 가져오기\n",
    "with open('hello.txt', 'r') as file: # hello.txt 파일을 읽기 모드(r)로 열기\n",
    "    lines = file.readlines()\n",
    "    print(lines)"
   ]
  },
  {
   "cell_type": "code",
   "execution_count": 13,
   "id": "d6deb614",
   "metadata": {},
   "outputs": [
    {
     "name": "stdout",
     "output_type": "stream",
     "text": [
      "안녕하세요.\n",
      "파이썬\n",
      "코딩 도장입니다.\n",
      "\n"
     ]
    }
   ],
   "source": [
    "# 4. 파일의 내용을 한 줄씩 읽기\n",
    "with open('hello.txt', 'r') as file:\n",
    "    line = None\n",
    "    while line != '':\n",
    "        line = file.readline()\n",
    "        print(line.strip('\\n'))"
   ]
  },
  {
   "cell_type": "code",
   "execution_count": 14,
   "id": "3cafced0",
   "metadata": {},
   "outputs": [
    {
     "name": "stdout",
     "output_type": "stream",
     "text": [
      "안녕하세요.\n",
      "파이썬\n",
      "코딩 도장입니다.\n"
     ]
    }
   ],
   "source": [
    "# 5. for 반복문으로 파일의 내용을 줄 단위로 읽기\n",
    "with open('hello.txt', 'r') as file:\n",
    "    for line in file: # for에 파일 객체를 지정하면\n",
    "                       # 파일의 내용을 한 줄씩 읽어서 변수에 저장함\n",
    "        print(line.strip('\\n')) # 파일에서 읽어온 문자열엣어 \\n을 삭제하여 출력        "
   ]
  },
  {
   "cell_type": "markdown",
   "id": "a9a75697",
   "metadata": {},
   "source": [
    "### 27.3 파이썬 객체를 파일에 저장하기, 가져오기"
   ]
  },
  {
   "cell_type": "code",
   "execution_count": 15,
   "id": "cad09aed",
   "metadata": {},
   "outputs": [],
   "source": [
    "# 1. 파이썬 객체를 파일에 저장하기\n",
    "import pickle\n",
    "\n",
    "name = 'james'\n",
    "age = 17\n",
    "address = '서울특별시 서초구 반포동'\n",
    "scores = {'Korean' : 90, 'English' : 95, 'Mathematics' : 85, 'Science' : 82}\n",
    "\n",
    "with open('james.p', 'wb') as file: # james.p 파일을 바이너리 쓰기 모드(wb)로 열기\n",
    "    pickle.dump(name, file)\n",
    "    pickle.dump(age, file)\n",
    "    pickle.dump(address, file)\n",
    "    pickle.dump(scores, file)"
   ]
  },
  {
   "cell_type": "code",
   "execution_count": 16,
   "id": "5cfe93fe",
   "metadata": {},
   "outputs": [
    {
     "name": "stdout",
     "output_type": "stream",
     "text": [
      "james\n",
      "17\n",
      "서울특별시 서초구 반포동\n",
      "{'Korean': 90, 'English': 95, 'Mathematics': 85, 'Science': 82}\n"
     ]
    }
   ],
   "source": [
    "# 2. 파일에서 파이썬 객체 읽기\n",
    "import pickle\n",
    "\n",
    "with open('james.p', 'rb') as file: # james.p 파일을 바이너리 읽기 모드(rb)로 열기\n",
    "    name = pickle.load(file)\n",
    "    age = pickle.load(file)\n",
    "    address = pickle.load(file)\n",
    "    scores = pickle.load(file)\n",
    "    \n",
    "    print(name)\n",
    "    print(age)\n",
    "    print(address)\n",
    "    print(scores)"
   ]
  },
  {
   "cell_type": "markdown",
   "id": "cfb3228a",
   "metadata": {},
   "source": [
    "### 27.5 연습문제 : 파일에서 10자 이하인 단어 개수 세기\n",
    "\n",
    "단어가 줄 단위로 짖어된 words.txt 파일이 주어집니다. 다음 소스 코드를 완성하여 10자 이하인 단어의 개수가 출력되게 만드세요."
   ]
  },
  {
   "cell_type": "code",
   "execution_count": 18,
   "id": "87f38dfa",
   "metadata": {},
   "outputs": [
    {
     "name": "stdout",
     "output_type": "stream",
     "text": [
      "4\n"
     ]
    }
   ],
   "source": [
    "with open('words.txt', 'r') as file:\n",
    "    count = 0\n",
    "    words = file.readlines()\n",
    "    for word in words:\n",
    "        if len(word.strip('\\n')) <= 10:\n",
    "            count += 1\n",
    "    print(count)"
   ]
  },
  {
   "cell_type": "markdown",
   "id": "0476efdf",
   "metadata": {},
   "source": [
    "### 27.6 심사문제 : 특정 문자가 들어있는 단어 찾기\n",
    "\n",
    "문자열이 저장된 words.txt 파일이 주어집니다(문자열은 한 줄로 저장되어 있습니다). words.txt 파일에서 문자 c가 포함된 단어들을 각 줄에 출력하는 프로그램을 만드세요. 단어를 출력할 때는 등장한 순서대로 출력해야 하며 ,(콤마)와 .(점)은 출력하지 않아야 합니다."
   ]
  },
  {
   "cell_type": "code",
   "execution_count": 19,
   "id": "97c0a8a4",
   "metadata": {},
   "outputs": [
    {
     "name": "stdout",
     "output_type": "stream",
     "text": [
      "dictator\n",
      "subjects\n",
      "change\n",
      "costume\n",
      "elegance\n",
      "accepted\n"
     ]
    }
   ],
   "source": [
    "with open('words.txt', 'r') as file:\n",
    "    for line in file:\n",
    "        words = line.split() # 공백을 기준으로 분리해서 리스트로 저장\n",
    "        for word in words:\n",
    "            if 'c' in word: # 읽어온 단어 중 'c'가 포함되면 출력\n",
    "                print(word.strip(',.'))"
   ]
  },
  {
   "cell_type": "code",
   "execution_count": null,
   "id": "82f782e8",
   "metadata": {},
   "outputs": [],
   "source": []
  }
 ],
 "metadata": {
  "kernelspec": {
   "display_name": "Python [conda env:.conda-env_cpu] *",
   "language": "python",
   "name": "conda-env-.conda-env_cpu-py"
  },
  "language_info": {
   "codemirror_mode": {
    "name": "ipython",
    "version": 3
   },
   "file_extension": ".py",
   "mimetype": "text/x-python",
   "name": "python",
   "nbconvert_exporter": "python",
   "pygments_lexer": "ipython3",
   "version": "3.8.8"
  }
 },
 "nbformat": 4,
 "nbformat_minor": 5
}
