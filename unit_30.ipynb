{
 "cells": [
  {
   "cell_type": "markdown",
   "id": "bfe9f0ed",
   "metadata": {},
   "source": [
    "## UNIT 30 함수에서 위치 인수와 키워드 인수 사용하기"
   ]
  },
  {
   "cell_type": "markdown",
   "id": "c81b1c72",
   "metadata": {},
   "source": [
    "### 30.1 위치 인수와 리스트 언패킹 사용하기"
   ]
  },
  {
   "cell_type": "code",
   "execution_count": 1,
   "id": "1dbfcf75",
   "metadata": {},
   "outputs": [
    {
     "name": "stdout",
     "output_type": "stream",
     "text": [
      "10 20 30\n"
     ]
    }
   ],
   "source": [
    "# 1. 위치 인수(positional argument)\n",
    "# 함수에 인수를 순서대로 넣는 방식\n",
    "\n",
    "print(10, 20, 30)"
   ]
  },
  {
   "cell_type": "code",
   "execution_count": 2,
   "id": "0e3d3d6c",
   "metadata": {},
   "outputs": [],
   "source": [
    "# 2. 위치 인수를 사용하는 함수를 만들고 호출하기\n",
    "def print_numbers(a, b, c):\n",
    "    print(a)\n",
    "    print(b)\n",
    "    print(c)"
   ]
  },
  {
   "cell_type": "code",
   "execution_count": 3,
   "id": "4d1763b0",
   "metadata": {},
   "outputs": [
    {
     "name": "stdout",
     "output_type": "stream",
     "text": [
      "10\n",
      "20\n",
      "30\n"
     ]
    }
   ],
   "source": [
    "print_numbers(10, 20, 30)"
   ]
  },
  {
   "cell_type": "code",
   "execution_count": 4,
   "id": "14687cef",
   "metadata": {},
   "outputs": [
    {
     "ename": "TypeError",
     "evalue": "print_numbers() missing 2 required positional arguments: 'b' and 'c'",
     "output_type": "error",
     "traceback": [
      "\u001b[1;31m---------------------------------------------------------------------------\u001b[0m",
      "\u001b[1;31mTypeError\u001b[0m                                 Traceback (most recent call last)",
      "\u001b[1;32mC:\\Users\\EASYCE~1\\AppData\\Local\\Temp/ipykernel_11660/3510885072.py\u001b[0m in \u001b[0;36m<module>\u001b[1;34m\u001b[0m\n\u001b[0;32m      3\u001b[0m \u001b[1;33m\u001b[0m\u001b[0m\n\u001b[0;32m      4\u001b[0m \u001b[0mx\u001b[0m \u001b[1;33m=\u001b[0m \u001b[1;33m[\u001b[0m\u001b[1;36m10\u001b[0m\u001b[1;33m,\u001b[0m \u001b[1;36m20\u001b[0m\u001b[1;33m,\u001b[0m \u001b[1;36m30\u001b[0m\u001b[1;33m]\u001b[0m\u001b[1;33m\u001b[0m\u001b[1;33m\u001b[0m\u001b[0m\n\u001b[1;32m----> 5\u001b[1;33m \u001b[0mprint_numbers\u001b[0m\u001b[1;33m(\u001b[0m\u001b[0mx\u001b[0m\u001b[1;33m)\u001b[0m\u001b[1;33m\u001b[0m\u001b[1;33m\u001b[0m\u001b[0m\n\u001b[0m",
      "\u001b[1;31mTypeError\u001b[0m: print_numbers() missing 2 required positional arguments: 'b' and 'c'"
     ]
    }
   ],
   "source": [
    "# 3. 언패킹 사용하기\n",
    "# 인수를 순서대로 넣을 때 리스트나 튜플을 사용할 수도 있음\n",
    "\n",
    "x = [10, 20, 30]\n",
    "print_numbers(x)"
   ]
  },
  {
   "cell_type": "code",
   "execution_count": 7,
   "id": "f4239c44",
   "metadata": {},
   "outputs": [
    {
     "name": "stdout",
     "output_type": "stream",
     "text": [
      "10\n",
      "20\n",
      "30\n"
     ]
    }
   ],
   "source": [
    "x = [10, 20, 30]\n",
    "print_numbers(*x)\n",
    "\n",
    "# x앞에 *를 붙여야 함\n",
    "# * : unpacking, 리스트의 포장을 푼다는 뜻"
   ]
  },
  {
   "cell_type": "code",
   "execution_count": 8,
   "id": "08080cf4",
   "metadata": {},
   "outputs": [
    {
     "name": "stdout",
     "output_type": "stream",
     "text": [
      "10\n",
      "20\n",
      "30\n"
     ]
    }
   ],
   "source": [
    "print_numbers(*[10, 20, 30])\n",
    "# 리스트 바로 앞에 붙여도 결과는 같음"
   ]
  },
  {
   "cell_type": "code",
   "execution_count": 9,
   "id": "4ec653bd",
   "metadata": {},
   "outputs": [],
   "source": [
    "# 4. 가변 인수 함수 만들기\n",
    "def print_numbers(*args):\n",
    "    for arg in args:\n",
    "        print(arg)"
   ]
  },
  {
   "cell_type": "code",
   "execution_count": 10,
   "id": "b5c7b9db",
   "metadata": {},
   "outputs": [
    {
     "name": "stdout",
     "output_type": "stream",
     "text": [
      "10\n"
     ]
    }
   ],
   "source": [
    "print_numbers(10)"
   ]
  },
  {
   "cell_type": "code",
   "execution_count": 11,
   "id": "8e0035b6",
   "metadata": {},
   "outputs": [
    {
     "name": "stdout",
     "output_type": "stream",
     "text": [
      "10\n",
      "20\n",
      "30\n",
      "40\n"
     ]
    }
   ],
   "source": [
    "print_numbers(10, 20, 30, 40)"
   ]
  },
  {
   "cell_type": "code",
   "execution_count": 12,
   "id": "b41fd73e",
   "metadata": {},
   "outputs": [
    {
     "name": "stdout",
     "output_type": "stream",
     "text": [
      "10\n"
     ]
    }
   ],
   "source": [
    "x = [10]\n",
    "print_numbers(*x)"
   ]
  },
  {
   "cell_type": "code",
   "execution_count": 13,
   "id": "97564c58",
   "metadata": {},
   "outputs": [
    {
     "name": "stdout",
     "output_type": "stream",
     "text": [
      "10\n",
      "20\n",
      "30\n",
      "40\n"
     ]
    }
   ],
   "source": [
    "y = [10, 20, 30, 40]\n",
    "print_numbers(*y)"
   ]
  },
  {
   "cell_type": "code",
   "execution_count": null,
   "id": "c4cd8581",
   "metadata": {},
   "outputs": [],
   "source": [
    "# 5. 고정 인수와 가변 인수를 함께 사용하기\n"
   ]
  },
  {
   "cell_type": "code",
   "execution_count": 14,
   "id": "d4e15c5d",
   "metadata": {},
   "outputs": [],
   "source": [
    "def print_numbers(a, *args):\n",
    "    print(a)\n",
    "    print(args)"
   ]
  },
  {
   "cell_type": "code",
   "execution_count": 15,
   "id": "1216f64e",
   "metadata": {},
   "outputs": [
    {
     "name": "stdout",
     "output_type": "stream",
     "text": [
      "1\n",
      "()\n"
     ]
    }
   ],
   "source": [
    "print_numbers(1)"
   ]
  },
  {
   "cell_type": "code",
   "execution_count": 16,
   "id": "5fbe98bf",
   "metadata": {},
   "outputs": [
    {
     "name": "stdout",
     "output_type": "stream",
     "text": [
      "1\n",
      "(10, 20)\n"
     ]
    }
   ],
   "source": [
    "print_numbers(1, 10, 20)"
   ]
  },
  {
   "cell_type": "code",
   "execution_count": 17,
   "id": "bd927e35",
   "metadata": {},
   "outputs": [
    {
     "name": "stdout",
     "output_type": "stream",
     "text": [
      "10\n",
      "(20, 30)\n"
     ]
    }
   ],
   "source": [
    "print_numbers(*[10, 20, 30])"
   ]
  },
  {
   "cell_type": "markdown",
   "id": "b5abd76b",
   "metadata": {},
   "source": [
    "### 30.2 키워드 인수 사용하기"
   ]
  },
  {
   "cell_type": "code",
   "execution_count": 18,
   "id": "792d865e",
   "metadata": {},
   "outputs": [],
   "source": [
    "def personal_info(name, age, address):\n",
    "    print('이름: ', name)\n",
    "    print('나이: ', age)\n",
    "    print('주소: ', address)"
   ]
  },
  {
   "cell_type": "code",
   "execution_count": 19,
   "id": "1e6b5dd4",
   "metadata": {},
   "outputs": [
    {
     "name": "stdout",
     "output_type": "stream",
     "text": [
      "이름:  홍길동\n",
      "나이:  30\n",
      "주소:  서울시 용산구 이촌동\n"
     ]
    }
   ],
   "source": [
    "personal_info('홍길동', 30, '서울시 용산구 이촌동')"
   ]
  },
  {
   "cell_type": "code",
   "execution_count": 20,
   "id": "04c8362f",
   "metadata": {},
   "outputs": [
    {
     "name": "stdout",
     "output_type": "stream",
     "text": [
      "이름:  홍길동\n",
      "나이:  30\n",
      "주소:  서울시 용산구 이촌동\n"
     ]
    }
   ],
   "source": [
    "personal_info(name='홍길동', age=30, address='서울시 용산구 이촌동')"
   ]
  },
  {
   "cell_type": "code",
   "execution_count": 21,
   "id": "2bc0f848",
   "metadata": {},
   "outputs": [
    {
     "name": "stdout",
     "output_type": "stream",
     "text": [
      "이름:  홍길동\n",
      "나이:  30\n",
      "주소:  서울시 용산구 이촌동\n"
     ]
    }
   ],
   "source": [
    "personal_info(age=30, address='서울시 용산구 이촌동', name='홍길동')"
   ]
  },
  {
   "cell_type": "code",
   "execution_count": 22,
   "id": "21dac84a",
   "metadata": {},
   "outputs": [
    {
     "name": "stdout",
     "output_type": "stream",
     "text": [
      "10:20:30"
     ]
    }
   ],
   "source": [
    "print(10, 20, 30, sep=':', end='')"
   ]
  },
  {
   "cell_type": "markdown",
   "id": "00cc87b5",
   "metadata": {},
   "source": [
    "### 30.3 키워드 인수와 딕셔너리 언패킹 사용하기"
   ]
  },
  {
   "cell_type": "code",
   "execution_count": 23,
   "id": "aef97db1",
   "metadata": {},
   "outputs": [],
   "source": [
    "def personal_info(name, age, address):\n",
    "    print('이름: ', name)\n",
    "    print('나이: ', age)\n",
    "    print('주소: ', address)"
   ]
  },
  {
   "cell_type": "code",
   "execution_count": 24,
   "id": "2b15bc33",
   "metadata": {},
   "outputs": [
    {
     "name": "stdout",
     "output_type": "stream",
     "text": [
      "이름:  홍길동\n",
      "나이:  30\n",
      "주소:  서울시 용산구 이촌동\n"
     ]
    }
   ],
   "source": [
    "x = {'name': '홍길동', 'age': 30, 'address': '서울시 용산구 이촌동'}\n",
    "personal_info(**x)\n",
    "# 반드시 x앞에 **를 넣어야 한다"
   ]
  },
  {
   "cell_type": "code",
   "execution_count": 25,
   "id": "c9247135",
   "metadata": {},
   "outputs": [
    {
     "name": "stdout",
     "output_type": "stream",
     "text": [
      "이름:  홍길동\n",
      "나이:  30\n",
      "주소:  서울시 용산구 이촌동\n"
     ]
    }
   ],
   "source": [
    "personal_info(**{'name': '홍길동', 'age': 30, 'address': '서울시 용산구 이촌동'})"
   ]
  },
  {
   "cell_type": "code",
   "execution_count": 28,
   "id": "b336d73b",
   "metadata": {},
   "outputs": [
    {
     "name": "stdout",
     "output_type": "stream",
     "text": [
      "이름:  name\n",
      "나이:  age\n",
      "주소:  address\n"
     ]
    }
   ],
   "source": [
    "x = {'name': '홍길동', 'age': 30, 'address': '서울시 용산구 이촌동'}\n",
    "personal_info(*x)\n",
    "# *를 두 번 사용하는 이유"
   ]
  },
  {
   "cell_type": "code",
   "execution_count": 29,
   "id": "ae03144f",
   "metadata": {},
   "outputs": [
    {
     "name": "stdout",
     "output_type": "stream",
     "text": [
      "이름:  홍길동\n",
      "나이:  30\n",
      "주소:  서울시 용산구 이촌동\n"
     ]
    }
   ],
   "source": [
    "x = {'name': '홍길동', 'age': 30, 'address': '서울시 용산구 이촌동'}\n",
    "personal_info(**x)"
   ]
  },
  {
   "cell_type": "code",
   "execution_count": 30,
   "id": "8d8da9ec",
   "metadata": {},
   "outputs": [],
   "source": [
    "def personal_info(**kwargs):\n",
    "    for kw, arg in kwargs.items():\n",
    "        print(kw, ': ', arg, sep='')"
   ]
  },
  {
   "cell_type": "code",
   "execution_count": 31,
   "id": "1364f9dd",
   "metadata": {},
   "outputs": [
    {
     "name": "stdout",
     "output_type": "stream",
     "text": [
      "name: 홍길동\n"
     ]
    }
   ],
   "source": [
    "personal_info(name='홍길동')"
   ]
  },
  {
   "cell_type": "code",
   "execution_count": 32,
   "id": "5442f6ea",
   "metadata": {},
   "outputs": [
    {
     "name": "stdout",
     "output_type": "stream",
     "text": [
      "name: 홍길동\n",
      "age: 30\n",
      "address: 서울시 용산구 이촌동\n"
     ]
    }
   ],
   "source": [
    "personal_info(name='홍길동', age=30, address='서울시 용산구 이촌동')"
   ]
  },
  {
   "cell_type": "code",
   "execution_count": 33,
   "id": "e834b032",
   "metadata": {},
   "outputs": [
    {
     "name": "stdout",
     "output_type": "stream",
     "text": [
      "name: 홍길동\n"
     ]
    }
   ],
   "source": [
    "x = {'name': '홍길동'}\n",
    "personal_info(**x)"
   ]
  },
  {
   "cell_type": "code",
   "execution_count": 34,
   "id": "d3e58de5",
   "metadata": {},
   "outputs": [
    {
     "name": "stdout",
     "output_type": "stream",
     "text": [
      "name: 홍길동\n",
      "age: 30\n",
      "address: 서울시 용산구 이촌동\n"
     ]
    }
   ],
   "source": [
    "y = {'name': '홍길동', 'age': 30, 'address': '서울시 용산구 이촌동'}\n",
    "personal_info(**y)"
   ]
  },
  {
   "cell_type": "code",
   "execution_count": 35,
   "id": "74987c75",
   "metadata": {},
   "outputs": [],
   "source": [
    "def personal_info(**kwargs):\n",
    "    if 'name' in kwargs:    # in으로 딕셔너리 안에 특정 키가 있는지 확인\n",
    "        print('이름: ', kwargs['name'])\n",
    "    if 'age' in kwargs:\n",
    "        print('나이: ', kwargs['age'])\n",
    "    if 'address' in kwargs:\n",
    "        print('주소: ', kwargs['address'])"
   ]
  },
  {
   "cell_type": "markdown",
   "id": "5cd50d26",
   "metadata": {},
   "source": [
    "### 30.4 매개변수에 초깃값 사용하기"
   ]
  },
  {
   "cell_type": "code",
   "execution_count": 36,
   "id": "8334fe3e",
   "metadata": {},
   "outputs": [],
   "source": [
    "def personal_info(name, age, address='비공개'):\n",
    "    print('이름: ', name)\n",
    "    print('나이: ', age)\n",
    "    print('주소: ', address)"
   ]
  },
  {
   "cell_type": "code",
   "execution_count": 37,
   "id": "472ca97c",
   "metadata": {},
   "outputs": [
    {
     "name": "stdout",
     "output_type": "stream",
     "text": [
      "이름:  홍길동\n",
      "나이:  30\n",
      "주소:  비공개\n"
     ]
    }
   ],
   "source": [
    "personal_info('홍길동', 30)"
   ]
  },
  {
   "cell_type": "code",
   "execution_count": 38,
   "id": "7c76870c",
   "metadata": {},
   "outputs": [
    {
     "name": "stdout",
     "output_type": "stream",
     "text": [
      "이름:  홍길동\n",
      "나이:  30\n",
      "주소:  서울시 용산구 이촌동\n"
     ]
    }
   ],
   "source": [
    "personal_info('홍길동', 30, '서울시 용산구 이촌동')"
   ]
  },
  {
   "cell_type": "code",
   "execution_count": 39,
   "id": "85e4ace7",
   "metadata": {},
   "outputs": [
    {
     "ename": "SyntaxError",
     "evalue": "non-default argument follows default argument (Temp/ipykernel_11660/427868163.py, line 1)",
     "output_type": "error",
     "traceback": [
      "\u001b[1;36m  File \u001b[1;32m\"C:\\Users\\EASYCE~1\\AppData\\Local\\Temp/ipykernel_11660/427868163.py\"\u001b[1;36m, line \u001b[1;32m1\u001b[0m\n\u001b[1;33m    def personal_info(name, address='비공개', age):\u001b[0m\n\u001b[1;37m                                              ^\u001b[0m\n\u001b[1;31mSyntaxError\u001b[0m\u001b[1;31m:\u001b[0m non-default argument follows default argument\n"
     ]
    }
   ],
   "source": [
    "def personal_info(name, address='비공개', age):\n",
    "    print('이름: ', name)\n",
    "    print('나이: ', age)\n",
    "    print('주소: ', address)"
   ]
  },
  {
   "cell_type": "code",
   "execution_count": 41,
   "id": "d1f2a648",
   "metadata": {},
   "outputs": [
    {
     "ename": "IndentationError",
     "evalue": "expected an indented block (Temp/ipykernel_11660/2724935578.py, line 2)",
     "output_type": "error",
     "traceback": [
      "\u001b[1;36m  File \u001b[1;32m\"C:\\Users\\EASYCE~1\\AppData\\Local\\Temp/ipykernel_11660/2724935578.py\"\u001b[1;36m, line \u001b[1;32m2\u001b[0m\n\u001b[1;33m    def personal_info(name, age=0, address='비공개'):\u001b[0m\n\u001b[1;37m    ^\u001b[0m\n\u001b[1;31mIndentationError\u001b[0m\u001b[1;31m:\u001b[0m expected an indented block\n"
     ]
    }
   ],
   "source": [
    "def personal_info(name, age, address='비공개'):\n",
    "def personal_info(name, age=0, address='비공개'):\n",
    "def personal_info(name='비공개', age=0, address='비공개'):"
   ]
  },
  {
   "cell_type": "markdown",
   "id": "da78c2f8",
   "metadata": {},
   "source": [
    "### 30.6 연습문제 : 가장 높은 점수를 구하는 함수 만들기\n",
    "\n",
    "다음 소스 코드를 완성하여 가장 높은 점수가 출력되게 만드세요."
   ]
  },
  {
   "cell_type": "code",
   "execution_count": 42,
   "id": "95ac5495",
   "metadata": {},
   "outputs": [
    {
     "name": "stdout",
     "output_type": "stream",
     "text": [
      "높은 점수: 100\n",
      "높은 점수: 91\n"
     ]
    }
   ],
   "source": [
    "korean, english, mathematics, science = 100, 86, 81, 91\n",
    "\n",
    "def get_max_score(*args):\n",
    "    return max(args)\n",
    "\n",
    "max_score = get_max_score(korean, english, mathematics, science)\n",
    "print('높은 점수:', max_score)\n",
    " \n",
    "max_score = get_max_score(english, science)\n",
    "print('높은 점수:', max_score)"
   ]
  },
  {
   "cell_type": "markdown",
   "id": "bd454a00",
   "metadata": {},
   "source": [
    "### 30.7 심사문제: 가장 낮은 점수, 높은 점수와 평균 점수를 구하는 함수 만들기\n",
    "\n",
    "표준 입력으로 국어, 영어, 수학, 과학 점수가 입력됩니다. 다음 소스 코드를 완성하여 가장 높은 점수, 가장 낮은 점수, 평균 점수가 출력되게 만드세요. 평균 점수는 실수로 출력되어야 합니다."
   ]
  },
  {
   "cell_type": "code",
   "execution_count": 43,
   "id": "e7a2c568",
   "metadata": {},
   "outputs": [
    {
     "name": "stdout",
     "output_type": "stream",
     "text": [
      "89 92 73 83\n",
      "낮은 점수: 73.00, 높은 점수: 92.00, 평균 점수: 84.25\n",
      "낮은 점수: 83.00, 높은 점수: 92.00, 평균 점수: 87.50\n"
     ]
    }
   ],
   "source": [
    "korean, english, mathematics, science = map(int, input().split())\n",
    "\n",
    "def get_min_max_score(*args):\n",
    "    return min(args), max(args)\n",
    "\n",
    "def get_average(**kwargs): # 키워드 인수를 사용한 가변 인수함수\n",
    "    return (sum(kwargs.values())/len(kwargs)) # len(kwargs)는 키의 개수\n",
    "\n",
    "min_score, max_score = get_min_max_score(korean, english, mathematics, science)\n",
    "average_score = get_average(korean=korean, english=english,\n",
    "                            mathematics=mathematics, science=science)\n",
    "print('낮은 점수: {0:.2f}, 높은 점수: {1:.2f}, 평균 점수: {2:.2f}'\n",
    "      .format(min_score, max_score, average_score))\n",
    " \n",
    "min_score, max_score = get_min_max_score(english, science)\n",
    "average_score = get_average(english=english, science=science)\n",
    "print('낮은 점수: {0:.2f}, 높은 점수: {1:.2f}, 평균 점수: {2:.2f}'\n",
    "      .format(min_score, max_score, average_score))"
   ]
  },
  {
   "cell_type": "code",
   "execution_count": null,
   "id": "e7b7d5ce",
   "metadata": {},
   "outputs": [],
   "source": []
  }
 ],
 "metadata": {
  "kernelspec": {
   "display_name": "Python 3 (ipykernel)",
   "language": "python",
   "name": "python3"
  },
  "language_info": {
   "codemirror_mode": {
    "name": "ipython",
    "version": 3
   },
   "file_extension": ".py",
   "mimetype": "text/x-python",
   "name": "python",
   "nbconvert_exporter": "python",
   "pygments_lexer": "ipython3",
   "version": "3.9.7"
  }
 },
 "nbformat": 4,
 "nbformat_minor": 5
}
