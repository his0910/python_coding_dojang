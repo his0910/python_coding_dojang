{
 "cells": [
  {
   "cell_type": "markdown",
   "metadata": {},
   "source": [
    "## UNIT 15 elif를 사용하여 여러 방향으로 분기하기"
   ]
  },
  {
   "cell_type": "markdown",
   "metadata": {},
   "source": [
    "### elif : 조건식을 여러 개 지정하여 각 조건마다 다른 코드를 실행할 수 있다."
   ]
  },
  {
   "cell_type": "markdown",
   "metadata": {},
   "source": [
    "### 15.1 elif 사용하기"
   ]
  },
  {
   "cell_type": "code",
   "execution_count": 1,
   "metadata": {},
   "outputs": [
    {
     "name": "stdout",
     "output_type": "stream",
     "text": [
      "20 입니다.\n"
     ]
    }
   ],
   "source": [
    "x = 20\n",
    "if x == 10:\n",
    "    print('10 입니다.')\n",
    "elif x == 20:\n",
    "    print('20 입니다.')"
   ]
  },
  {
   "cell_type": "markdown",
   "metadata": {},
   "source": [
    "### 15.2 if, elif, else를 모두 사용하기"
   ]
  },
  {
   "cell_type": "code",
   "execution_count": 2,
   "metadata": {},
   "outputs": [
    {
     "name": "stdout",
     "output_type": "stream",
     "text": [
      "10도 20도 아닙니다.\n"
     ]
    }
   ],
   "source": [
    "x = 30\n",
    "\n",
    "if x == 10:\n",
    "    print('10 입니다.')\n",
    "elif x == 20:\n",
    "    print('20 입니다.')\n",
    "else:\n",
    "    print('10도 20도 아닙니다.')"
   ]
  },
  {
   "cell_type": "code",
   "execution_count": 3,
   "metadata": {},
   "outputs": [],
   "source": [
    "# if와 else는 한 번만 사용할 수 있고, elif는 여러 번 사용할 수 있다.\n",
    "# if - elif - else 의 순서이고\n",
    "# else가 elif보다 먼저 나오면 오류가 발생한다."
   ]
  },
  {
   "cell_type": "markdown",
   "metadata": {},
   "source": [
    "### 15.3 음료수 자판기 만들기"
   ]
  },
  {
   "cell_type": "code",
   "execution_count": 4,
   "metadata": {},
   "outputs": [
    {
     "name": "stdout",
     "output_type": "stream",
     "text": [
      "2\n",
      "사이다\n"
     ]
    }
   ],
   "source": [
    "button = int(input())\n",
    "\n",
    "if button == 1:\n",
    "    print('콜라')\n",
    "\n",
    "elif button == 2:\n",
    "    print('사이다')\n",
    "    \n",
    "elif button == 3:\n",
    "    print('환타')\n",
    "    \n",
    "else:\n",
    "    print('제공하지 않는 메뉴')"
   ]
  },
  {
   "cell_type": "markdown",
   "metadata": {},
   "source": [
    "### 15.4 연습문제 : if, elif, else 모두 사용하기\n",
    "\n",
    "### 다음 소스 코드를 완성하여 변수 x가 11과 20 사이면 '11~20',\n",
    "### 21과 30 사이면 '21~30',\n",
    "### 아무것도 해당하지 않으면 '아무것도 해당하지 않음'이 출력되게 만드세요."
   ]
  },
  {
   "cell_type": "code",
   "execution_count": 7,
   "metadata": {},
   "outputs": [
    {
     "name": "stdout",
     "output_type": "stream",
     "text": [
      "38\n",
      "아무것도 해당하지 않음\n"
     ]
    }
   ],
   "source": [
    "x = int(input())\n",
    "\n",
    "if 11 <= x <= 20:\n",
    "    print('11~20')\n",
    "    \n",
    "elif 21 <= x <= 30:\n",
    "    print('21~30')\n",
    "    \n",
    "else:\n",
    "    print('아무것도 해당하지 않음')"
   ]
  },
  {
   "cell_type": "markdown",
   "metadata": {},
   "source": [
    "### 15.5 심사문제 : 교통카드 시스템 만들기\n",
    "\n",
    "표준 입력으로 나이(만 나이)가 입력됩니다(입력 값은 7 이상 입력됨). 교통카드 시스템에서 시내버스 요금은 다음과 같으며 각 나이에 맞게 요금을 차감한 뒤 잔액이 출력되게 만드세요(if, elif 사용). 현재 교통카드에는 9,000원이 들어있습니다."
   ]
  },
  {
   "cell_type": "code",
   "execution_count": 9,
   "metadata": {},
   "outputs": [
    {
     "name": "stdout",
     "output_type": "stream",
     "text": [
      "25\n",
      "7750\n"
     ]
    }
   ],
   "source": [
    "age = int(input())\n",
    "balance = 9000\n",
    "\n",
    "if 7 <= age <= 12:\n",
    "    balance -= 650\n",
    "    \n",
    "elif 13 <= age <= 18:\n",
    "    balance -= 1050\n",
    "    \n",
    "else:\n",
    "    balance -= 1250\n",
    "    \n",
    "print(balance)"
   ]
  }
 ],
 "metadata": {
  "kernelspec": {
   "display_name": "Python 3",
   "language": "python",
   "name": "python3"
  },
  "language_info": {
   "codemirror_mode": {
    "name": "ipython",
    "version": 3
   },
   "file_extension": ".py",
   "mimetype": "text/x-python",
   "name": "python",
   "nbconvert_exporter": "python",
   "pygments_lexer": "ipython3",
   "version": "3.8.5"
  }
 },
 "nbformat": 4,
 "nbformat_minor": 4
}
