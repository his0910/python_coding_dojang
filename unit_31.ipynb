{
 "cells": [
  {
   "cell_type": "markdown",
   "id": "bd5772e1",
   "metadata": {},
   "source": [
    "## UNIT 31 함수에서 재귀호출 사용하기"
   ]
  },
  {
   "cell_type": "markdown",
   "id": "8d7846c1",
   "metadata": {},
   "source": [
    "### 31.1 재귀호출 사용하기"
   ]
  },
  {
   "cell_type": "code",
   "execution_count": 2,
   "id": "af9a61bd",
   "metadata": {},
   "outputs": [],
   "source": [
    "# 1. 간단한 재귀호출 함수 만들기\n",
    "def hello():\n",
    "    print('Hello, world!')\n",
    "    hello()"
   ]
  },
  {
   "cell_type": "code",
   "execution_count": null,
   "id": "95abeeea",
   "metadata": {},
   "outputs": [],
   "source": [
    "hello()"
   ]
  },
  {
   "cell_type": "code",
   "execution_count": 1,
   "id": "edac2b6c",
   "metadata": {},
   "outputs": [
    {
     "name": "stdout",
     "output_type": "stream",
     "text": [
      "Hello, world! 5\n",
      "Hello, world! 4\n",
      "Hello, world! 3\n",
      "Hello, world! 2\n",
      "Hello, world! 1\n"
     ]
    }
   ],
   "source": [
    "# 2. 재귀호출에 종료 조건 만들기\n",
    "def hello(count):\n",
    "    if count == 0: # 종료 조건을 만듦. count가 0이면 다시 hello 함수를 호출하지 않고 끝냄\n",
    "        return\n",
    "    \n",
    "    print('Hello, world!', count)\n",
    "    \n",
    "    count -= 1\n",
    "    hello(count)\n",
    "    \n",
    "hello(5)"
   ]
  },
  {
   "cell_type": "markdown",
   "id": "36361fd2",
   "metadata": {},
   "source": [
    "### 31.2 재귀호출로 팩토리얼 구하기"
   ]
  },
  {
   "cell_type": "code",
   "execution_count": 2,
   "id": "c09e4d0f",
   "metadata": {},
   "outputs": [
    {
     "name": "stdout",
     "output_type": "stream",
     "text": [
      "120\n"
     ]
    }
   ],
   "source": [
    "def factorial(n):\n",
    "    if n == 1:      # n이 1일 때\n",
    "        return 1    # 1을 반환하고 재귀호출을 끝냄\n",
    "    return n * factorial(n - 1)    # n과 factorial 함수에 n - 1을 넣어서 반환된 값을 곱함\n",
    " \n",
    "print(factorial(5))"
   ]
  },
  {
   "cell_type": "code",
   "execution_count": 3,
   "id": "6c62ec2d",
   "metadata": {},
   "outputs": [],
   "source": [
    "def factorial(n):\n",
    "    if n == 1:      # n이 1일 때\n",
    "        return 1    # 1을 반환하고 재귀호출을 끝냄"
   ]
  },
  {
   "cell_type": "markdown",
   "id": "523b9f60",
   "metadata": {},
   "source": [
    "### 31.4 연습문제 : 재귀호출로 회문 판별하기\n",
    "\n",
    "다음 소스 코드를 완성하여 문자열이 회문인지 판별하고 결과를 True, False로 출력되게 만드세요. 여기서는 재귀호출을 사용해야 합니다."
   ]
  },
  {
   "cell_type": "code",
   "execution_count": 5,
   "id": "540b4065",
   "metadata": {},
   "outputs": [
    {
     "name": "stdout",
     "output_type": "stream",
     "text": [
      "False\n",
      "True\n"
     ]
    }
   ],
   "source": [
    "def is_palindrome(word):\n",
    "                                    \n",
    "    if len(word) < 2:\n",
    "        return True\n",
    "    if word[0] != word[-1]:\n",
    "        return False\n",
    "    return is_palindrome(word[1:-1])\n",
    "                                    \n",
    "print(is_palindrome('hello'))\n",
    "print(is_palindrome('level'))"
   ]
  },
  {
   "cell_type": "markdown",
   "id": "c22f3b79",
   "metadata": {},
   "source": [
    "## 31.5 심사문제 : 재귀호출로 피보나치 수 구하기\n",
    "\n",
    "표준 입력으로 정수 한 개가 입력됩니다(입력 값의 범위는 10~30). 다음 소스 코드를 완성하여 입력된 정수에 해당하는 피보나치 수가 출력되게 만드세요. 피보나치 수는 0과 1로 시작하며, 다음 번 피보나치 수는 바로 앞의 두 피보나치 수의 합입니다."
   ]
  },
  {
   "cell_type": "code",
   "execution_count": 6,
   "id": "81d5c11e",
   "metadata": {},
   "outputs": [
    {
     "name": "stdout",
     "output_type": "stream",
     "text": [
      "20\n",
      "6765\n"
     ]
    }
   ],
   "source": [
    "def fib(n):\n",
    "    if n <= 1:\n",
    "        return n # n이 0이면 결과 0, 1이면 결과 1\n",
    "    \n",
    "    else:\n",
    "        return fib(n-1) + fib(n-2)\n",
    "    \n",
    "n = int(input())\n",
    "print(fib(n))"
   ]
  },
  {
   "cell_type": "code",
   "execution_count": null,
   "id": "d27e50fd",
   "metadata": {},
   "outputs": [],
   "source": []
  }
 ],
 "metadata": {
  "kernelspec": {
   "display_name": "Python 3 (ipykernel)",
   "language": "python",
   "name": "python3"
  },
  "language_info": {
   "codemirror_mode": {
    "name": "ipython",
    "version": 3
   },
   "file_extension": ".py",
   "mimetype": "text/x-python",
   "name": "python",
   "nbconvert_exporter": "python",
   "pygments_lexer": "ipython3",
   "version": "3.9.7"
  }
 },
 "nbformat": 4,
 "nbformat_minor": 5
}
